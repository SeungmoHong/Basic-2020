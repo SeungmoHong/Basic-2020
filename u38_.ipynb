{
 "metadata": {
  "language_info": {
   "codemirror_mode": {
    "name": "ipython",
    "version": 3
   },
   "file_extension": ".py",
   "mimetype": "text/x-python",
   "name": "python",
   "nbconvert_exporter": "python",
   "pygments_lexer": "ipython3",
   "version": "3.8.3-final"
  },
  "orig_nbformat": 2,
  "kernelspec": {
   "name": "Python 3.8.3 64-bit (conda)",
   "display_name": "Python 3.8.3 64-bit (conda)",
   "metadata": {
    "interpreter": {
     "hash": "b3ba2566441a7c06988d0923437866b63cedc61552a5af99d1f4fb67d367b25f"
    }
   }
  }
 },
 "nbformat": 4,
 "nbformat_minor": 2,
 "cells": [
  {
   "source": [
    "# Unit 38. 예외처리"
   ],
   "cell_type": "markdown",
   "metadata": {}
  },
  {
   "cell_type": "code",
   "execution_count": 1,
   "metadata": {},
   "outputs": [],
   "source": [
    "def ten_div(x):\n",
    "    return 10 / x"
   ]
  },
  {
   "cell_type": "code",
   "execution_count": 2,
   "metadata": {},
   "outputs": [
    {
     "output_type": "execute_result",
     "data": {
      "text/plain": [
       "5.0"
      ]
     },
     "metadata": {},
     "execution_count": 2
    }
   ],
   "source": [
    "ten_div(2)"
   ]
  },
  {
   "cell_type": "code",
   "execution_count": 4,
   "metadata": {},
   "outputs": [
    {
     "output_type": "error",
     "ename": "ZeroDivisionError",
     "evalue": "division by zero",
     "traceback": [
      "\u001b[1;31m---------------------------------------------------------------------------\u001b[0m",
      "\u001b[1;31mZeroDivisionError\u001b[0m                         Traceback (most recent call last)",
      "\u001b[1;32m<ipython-input-4-446b4e992a50>\u001b[0m in \u001b[0;36m<module>\u001b[1;34m\u001b[0m\n\u001b[1;32m----> 1\u001b[1;33m \u001b[0mten_div\u001b[0m\u001b[1;33m(\u001b[0m\u001b[1;36m0\u001b[0m\u001b[1;33m)\u001b[0m\u001b[1;33m\u001b[0m\u001b[1;33m\u001b[0m\u001b[0m\n\u001b[0m",
      "\u001b[1;32m<ipython-input-1-c70a7a1f26f8>\u001b[0m in \u001b[0;36mten_div\u001b[1;34m(x)\u001b[0m\n\u001b[0;32m      1\u001b[0m \u001b[1;32mdef\u001b[0m \u001b[0mten_div\u001b[0m\u001b[1;33m(\u001b[0m\u001b[0mx\u001b[0m\u001b[1;33m)\u001b[0m\u001b[1;33m:\u001b[0m\u001b[1;33m\u001b[0m\u001b[1;33m\u001b[0m\u001b[0m\n\u001b[1;32m----> 2\u001b[1;33m     \u001b[1;32mreturn\u001b[0m \u001b[1;36m10\u001b[0m \u001b[1;33m/\u001b[0m \u001b[0mx\u001b[0m\u001b[1;33m\u001b[0m\u001b[1;33m\u001b[0m\u001b[0m\n\u001b[0m",
      "\u001b[1;31mZeroDivisionError\u001b[0m: division by zero"
     ]
    }
   ],
   "source": [
    "ten_div(0)"
   ]
  },
  {
   "cell_type": "code",
   "execution_count": 5,
   "metadata": {},
   "outputs": [
    {
     "output_type": "stream",
     "name": "stdout",
     "text": [
      "예외가 발생했습니다.\n"
     ]
    }
   ],
   "source": [
    "try:\n",
    "    x = int(input('나눌 숫자를입력하세요: '))\n",
    "    y = 10 / x\n",
    "    print(y)\n",
    "except:\n",
    "    print('예외가 발생했습니다.')"
   ]
  },
  {
   "source": [
    "### 특정 예외만 처리하기"
   ],
   "cell_type": "markdown",
   "metadata": {}
  },
  {
   "cell_type": "code",
   "execution_count": 15,
   "metadata": {},
   "outputs": [
    {
     "output_type": "stream",
     "name": "stdout",
     "text": [
      "10.0\n"
     ]
    }
   ],
   "source": [
    "y = [10, 20 , 30]\n",
    "\n",
    "try:\n",
    "    index, x = map(int, input('인덱스와 나눌 숫자를 입력하세요: ').split())\n",
    "    print(y[index]/x)\n",
    "except ZeroDivisionError :\n",
    "    print('숫자를 0으로 나눌 수 없습니다.')\n",
    "except IndexError:\n",
    "    print('잘못된 인덱스입니다.')"
   ]
  },
  {
   "cell_type": "code",
   "execution_count": 18,
   "metadata": {},
   "outputs": [
    {
     "output_type": "stream",
     "name": "stdout",
     "text": [
      "잘못된 인덱스입니다. list index out of range\n"
     ]
    }
   ],
   "source": [
    "# 예외 메시지 출력\n",
    "y = [10, 20 , 30]\n",
    "\n",
    "try:\n",
    "    index, x = map(int, input('인덱스와 나눌 숫자를 입력하세요: ').split())\n",
    "    print(y[index]/x)\n",
    "except ZeroDivisionError as e :\n",
    "    print('숫자를 0으로 나눌 수 없습니다.',e)\n",
    "except IndexError as e:\n",
    "    print('잘못된 인덱스입니다.', e)"
   ]
  },
  {
   "source": [
    "### else, finally"
   ],
   "cell_type": "markdown",
   "metadata": {}
  },
  {
   "cell_type": "code",
   "execution_count": 21,
   "metadata": {},
   "outputs": [
    {
     "output_type": "stream",
     "name": "stdout",
     "text": [
      "2.0\n"
     ]
    }
   ],
   "source": [
    "try:\n",
    "    x = int(input('나눌 숫자를 입력하세요 :'))\n",
    "    y = 10 / x\n",
    "except ZeroDivisionError:\n",
    "    print('숫자를 0으로 나눌 수 없습니다.')\n",
    "else:\n",
    "    print(y)"
   ]
  },
  {
   "cell_type": "code",
   "execution_count": 23,
   "metadata": {},
   "outputs": [
    {
     "output_type": "stream",
     "name": "stdout",
     "text": [
      "5.0\n코드 실행이 끝났습니다.\n"
     ]
    }
   ],
   "source": [
    "try:\n",
    "    x = int(input('나눌 숫자를 입력하세요 :'))\n",
    "    y = 10 / x\n",
    "except ZeroDivisionError:\n",
    "    print('숫자를 0으로 나눌 수 없습니다.')\n",
    "else:\n",
    "    print(y)\n",
    "finally:\n",
    "    print('코드 실행이 끝났습니다.')"
   ]
  },
  {
   "source": [
    "### 예외 발생시키기"
   ],
   "cell_type": "markdown",
   "metadata": {}
  },
  {
   "cell_type": "code",
   "execution_count": 30,
   "metadata": {},
   "outputs": [
    {
     "output_type": "stream",
     "name": "stdout",
     "text": [
      "9\n"
     ]
    }
   ],
   "source": [
    "try:\n",
    "    x = int(input('3의 배수를 입력하세요:'))\n",
    "    if x % 3 != 0:\n",
    "        raise Exception('3의 배수가 아닙니다.')\n",
    "    print(x)\n",
    "except Exception as e:\n",
    "    print('예외가 발생했습니다.', e)"
   ]
  },
  {
   "cell_type": "code",
   "execution_count": 41,
   "metadata": {},
   "outputs": [
    {
     "output_type": "stream",
     "name": "stdout",
     "text": [
      "만족하는 수는 200,375,425입니다.\n"
     ]
    }
   ],
   "source": [
    "try :\n",
    "    for a in range(1, 1000):\n",
    "        for b in range(a+1, 1000):\n",
    "            c = 1000 - (a+b)\n",
    "            if a*a + b*b ==  c*c:\n",
    "                raise Exception(f'만족하는 수는 {a},{b},{c}입니다.')\n",
    "except Exception as e:\n",
    "    print(e)"
   ]
  },
  {
   "source": [
    "### assert "
   ],
   "cell_type": "markdown",
   "metadata": {}
  },
  {
   "cell_type": "code",
   "execution_count": 44,
   "metadata": {},
   "outputs": [
    {
     "output_type": "error",
     "ename": "AssertionError",
     "evalue": "3의 배수가 아닙니다.",
     "traceback": [
      "\u001b[1;31m---------------------------------------------------------------------------\u001b[0m",
      "\u001b[1;31mAssertionError\u001b[0m                            Traceback (most recent call last)",
      "\u001b[1;32m<ipython-input-44-5060e820ea60>\u001b[0m in \u001b[0;36m<module>\u001b[1;34m\u001b[0m\n\u001b[0;32m      1\u001b[0m \u001b[0mx\u001b[0m \u001b[1;33m=\u001b[0m \u001b[0mint\u001b[0m\u001b[1;33m(\u001b[0m\u001b[0minput\u001b[0m\u001b[1;33m(\u001b[0m\u001b[1;34m'3의 배수를 입력하세요: '\u001b[0m\u001b[1;33m)\u001b[0m\u001b[1;33m)\u001b[0m\u001b[1;33m\u001b[0m\u001b[1;33m\u001b[0m\u001b[0m\n\u001b[1;32m----> 2\u001b[1;33m \u001b[1;32massert\u001b[0m \u001b[0mx\u001b[0m \u001b[1;33m%\u001b[0m \u001b[1;36m3\u001b[0m \u001b[1;33m==\u001b[0m \u001b[1;36m0\u001b[0m\u001b[1;33m,\u001b[0m \u001b[1;34m'3의 배수가 아닙니다.'\u001b[0m\u001b[1;33m\u001b[0m\u001b[1;33m\u001b[0m\u001b[0m\n\u001b[0m\u001b[0;32m      3\u001b[0m \u001b[0mprint\u001b[0m\u001b[1;33m(\u001b[0m\u001b[0mx\u001b[0m\u001b[1;33m)\u001b[0m\u001b[1;33m\u001b[0m\u001b[1;33m\u001b[0m\u001b[0m\n",
      "\u001b[1;31mAssertionError\u001b[0m: 3의 배수가 아닙니다."
     ]
    }
   ],
   "source": [
    "x = int(input('3의 배수를 입력하세요: '))\n",
    "assert x % 3 == 0, '3의 배수가 아닙니다.'\n",
    "print(x)"
   ]
  },
  {
   "cell_type": "code",
   "execution_count": 46,
   "metadata": {},
   "outputs": [
    {
     "output_type": "stream",
     "name": "stdout",
     "text": [
      "예외가 발생했습니다. 3의 배수가 아닙니다.\n"
     ]
    }
   ],
   "source": [
    "class NotThreeMultipleError(Exception):\n",
    "    def __init__(self):\n",
    "        super().__init__('3의 배수가 아닙니다.')\n",
    "def three_multiple():\n",
    "    try:\n",
    "        x = int(input('3의 배수를 입력하세요 :'))\n",
    "        if x % 3 != 0:\n",
    "            raise NotThreeMultipleError\n",
    "        print(x)\n",
    "    except Exception as e:\n",
    "        print('예외가 발생했습니다.', e)\n",
    "\n",
    "three_multiple()"
   ]
  },
  {
   "cell_type": "code",
   "execution_count": 52,
   "metadata": {},
   "outputs": [],
   "source": [
    "class FindException(Exception):\n",
    "    def __init__(self, msg):\n",
    "        super().__init__(f'Find Numbers: {msg}')"
   ]
  },
  {
   "cell_type": "code",
   "execution_count": 53,
   "metadata": {},
   "outputs": [
    {
     "output_type": "stream",
     "name": "stdout",
     "text": [
      "Find Numbers: 만족하는 수는 200,375,425입니다.\n"
     ]
    }
   ],
   "source": [
    "try :\n",
    "    for a in range(1, 1000):\n",
    "        for b in range(a+1, 1000):\n",
    "            c = 1000 - (a+b)\n",
    "            if a*a + b*b ==  c*c:\n",
    "                raise FindException(f'만족하는 수는 {a},{b},{c}입니다.')\n",
    "except Exception as e:\n",
    "    print(e)"
   ]
  },
  {
   "cell_type": "code",
   "execution_count": 57,
   "metadata": {},
   "outputs": [
    {
     "output_type": "stream",
     "name": "stdout",
     "text": [
      "level\n"
     ]
    }
   ],
   "source": [
    "class NotPalindromeError(Exception):\n",
    "    def __init__(self):\n",
    "         super().__init__('회문이 아닙니다.')\n",
    "def palindrome(word):\n",
    "    if word != word[::-1] :\n",
    "        raise NotPalindromeError\n",
    "    print(word)\n",
    "\n",
    "\n",
    "try:\n",
    "    word = input()\n",
    "    palindrome(word)\n",
    "except NotPalindromeError as e:\n",
    "    print(e)"
   ]
  }
 ]
}