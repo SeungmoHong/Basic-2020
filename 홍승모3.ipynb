{
 "cells": [
  {
   "cell_type": "code",
   "execution_count": 3,
   "metadata": {},
   "outputs": [],
   "source": [
    "# 1번문제\n",
    "def one(n):\n",
    "    s = 0\n",
    "    ss = 0\n",
    "    for i in range(1,n+1):\n",
    "        s += (i*i)\n",
    "        ss += (i+i)*(i+i)\n",
    "    return s, ss"
   ]
  },
  {
   "cell_type": "code",
   "execution_count": 4,
   "metadata": {},
   "outputs": [
    {
     "data": {
      "text/plain": [
       "1"
      ]
     },
     "execution_count": 4,
     "metadata": {},
     "output_type": "execute_result"
    }
   ],
   "source": [
    "n = int(input())\n",
    "n"
   ]
  },
  {
   "cell_type": "code",
   "execution_count": 5,
   "metadata": {},
   "outputs": [
    {
     "data": {
      "text/plain": [
       "(1, 4)"
      ]
     },
     "execution_count": 5,
     "metadata": {},
     "output_type": "execute_result"
    }
   ],
   "source": [
    "one(n)"
   ]
  },
  {
   "cell_type": "code",
   "execution_count": 6,
   "metadata": {},
   "outputs": [
    {
     "data": {
      "text/plain": [
       "(200, 375, 425)"
      ]
     },
     "execution_count": 6,
     "metadata": {},
     "output_type": "execute_result"
    }
   ],
   "source": [
    "# 2번문제\n",
    "def two(n):\n",
    "    for a in range(1, n):\n",
    "        for b in range(1, n):\n",
    "            c = n- b - a\n",
    "            if a*a + b*b == c*c and a<b<c:\n",
    "                return a, b, c\n",
    "two(1000)"
   ]
  },
  {
   "cell_type": "code",
   "execution_count": 7,
   "metadata": {},
   "outputs": [
    {
     "name": "stdout",
     "output_type": "stream",
     "text": [
      "29700\n"
     ]
    }
   ],
   "source": [
    "#3번문제\n",
    "time = 0\n",
    "for h in range(24):\n",
    "    for m in range(60):\n",
    "        if '3' in str(h) or '3' in str(m) :\n",
    "            time += 60\n",
    "print(time)"
   ]
  },
  {
   "cell_type": "code",
   "execution_count": 8,
   "metadata": {},
   "outputs": [
    {
     "name": "stdout",
     "output_type": "stream",
     "text": [
      "{'1': 301, '2': 300, '3': 300, '4': 300, '5': 300, '6': 300, '7': 300, '8': 300, '9': 300, '0': 192}\n"
     ]
    }
   ],
   "source": [
    "#4번문제\n",
    "n_list = []\n",
    "for n in range(1,1001):\n",
    "    n_list += list(str(n))\n",
    "n_dict = {}\n",
    "for n in n_list:\n",
    "    if n in n_dict.keys():\n",
    "        n_dict[n] += 1\n",
    "    else :\n",
    "        n_dict.update({n:1})\n",
    "print(n_dict)"
   ]
  },
  {
   "cell_type": "code",
   "execution_count": 10,
   "metadata": {},
   "outputs": [
    {
     "name": "stdout",
     "output_type": "stream",
     "text": [
      "('906609', 993, 913)\n"
     ]
    }
   ],
   "source": [
    "#5번문제\n",
    "maxpal=''\n",
    "max_list = []\n",
    "for i in range(100,1000):\n",
    "    for k in range(100,1000):\n",
    "        maxpal = str(i*k)\n",
    "        if i<k :\n",
    "            continue\n",
    "        if maxpal == maxpal[::-1]:\n",
    "            max_list.append((maxpal,i,k))\n",
    "            max(max_list)\n",
    "        \n",
    "print(max(max_list))"
   ]
  },
  {
   "cell_type": "code",
   "execution_count": null,
   "metadata": {},
   "outputs": [],
   "source": []
  }
 ],
 "metadata": {
  "kernelspec": {
   "display_name": "Python 3",
   "language": "python",
   "name": "python3"
  },
  "language_info": {
   "codemirror_mode": {
    "name": "ipython",
    "version": 3
   },
   "file_extension": ".py",
   "mimetype": "text/x-python",
   "name": "python",
   "nbconvert_exporter": "python",
   "pygments_lexer": "ipython3",
   "version": "3.8.3"
  }
 },
 "nbformat": 4,
 "nbformat_minor": 2
}