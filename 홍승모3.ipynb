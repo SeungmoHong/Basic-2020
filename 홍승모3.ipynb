{
 "metadata": {
  "language_info": {
   "codemirror_mode": {
    "name": "ipython",
    "version": 3
   },
   "file_extension": ".py",
   "mimetype": "text/x-python",
   "name": "python",
   "nbconvert_exporter": "python",
   "pygments_lexer": "ipython3",
   "version": "3.8.3-final"
  },
  "orig_nbformat": 2,
  "kernelspec": {
   "name": "python3",
   "display_name": "Python 3"
  }
 },
 "nbformat": 4,
 "nbformat_minor": 2,
 "cells": [
  {
   "cell_type": "code",
   "execution_count": 6,
   "metadata": {},
   "outputs": [],
   "source": [
    "# 1번문제\n",
    "def one(n):\n",
    "    s = 0\n",
    "    ss = 0\n",
    "    for i in range(1,n+1):\n",
    "        s += (i*i)\n",
    "        ss += (i+i)*(i+i)\n",
    "    return s, ss"
   ]
  },
  {
   "cell_type": "code",
   "execution_count": 8,
   "metadata": {},
   "outputs": [
    {
     "output_type": "execute_result",
     "data": {
      "text/plain": [
       "33"
      ]
     },
     "metadata": {},
     "execution_count": 8
    }
   ],
   "source": [
    "n = int(input())\n",
    "n"
   ]
  },
  {
   "cell_type": "code",
   "execution_count": 9,
   "metadata": {},
   "outputs": [
    {
     "output_type": "execute_result",
     "data": {
      "text/plain": [
       "(12529, 50116)"
      ]
     },
     "metadata": {},
     "execution_count": 9
    }
   ],
   "source": [
    "one(n)"
   ]
  },
  {
   "cell_type": "code",
   "execution_count": 10,
   "metadata": {},
   "outputs": [
    {
     "output_type": "execute_result",
     "data": {
      "text/plain": [
       "(200, 375, 425)"
      ]
     },
     "metadata": {},
     "execution_count": 10
    }
   ],
   "source": [
    "# 2번문제\n",
    "def two(n):\n",
    "    for a in range(1, n):\n",
    "        for b in range(1, n):\n",
    "            c = n- b - a\n",
    "            if a*a + b*b == c*c and a<b<c:\n",
    "                return a, b, c\n",
    "two(1000)"
   ]
  },
  {
   "cell_type": "code",
   "execution_count": 11,
   "metadata": {},
   "outputs": [
    {
     "output_type": "stream",
     "name": "stdout",
     "text": [
      "29700\n"
     ]
    }
   ],
   "source": [
    "#3번문제\n",
    "time = 0\n",
    "for h in range(24):\n",
    "    for m in range(60):\n",
    "        if '3' in str(h) or '3' in str(m) :\n",
    "            time += 60\n",
    "print(time)"
   ]
  },
  {
   "cell_type": "code",
   "execution_count": null,
   "metadata": {},
   "outputs": [],
   "source": [
    "#4번문제\n",
    "n_list = []\n",
    "for n in range(1,1001):\n",
    "    n_list += list(str(n))\n",
    "n_dict = {}\n",
    "for n in n_list:\n",
    "    if n in n_dict.keys():\n",
    "        n_dict[n] += 1\n",
    "    else :\n",
    "        n_dict.update({n:1})\n",
    "print(n_dict)"
   ]
  }
 ]
}