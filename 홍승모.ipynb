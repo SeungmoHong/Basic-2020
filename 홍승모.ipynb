{
 "cells": [
  {
   "cell_type": "markdown",
   "metadata": {},
   "source": [
    "## 4장 과제 "
   ]
  },
  {
   "cell_type": "code",
   "execution_count": 1,
   "metadata": {},
   "outputs": [
    {
     "name": "stdout",
     "output_type": "stream",
     "text": [
      "1~10사이의 정수>1\n",
      "1~10사이의 정수>2\n",
      "too low\n"
     ]
    }
   ],
   "source": [
    "# 4-1\n",
    "guess = int(input('1~10사이의 정수>'))\n",
    "secret = int(input('1~10사이의 정수>'))\n",
    "if guess < secret:\n",
    "    print('too low')\n",
    "elif guess > secret:\n",
    "    print('too high')\n",
    "else:\n",
    "    print('just right')"
   ]
  },
  {
   "cell_type": "code",
   "execution_count": 2,
   "metadata": {},
   "outputs": [
    {
     "name": "stdout",
     "output_type": "stream",
     "text": [
      "체리, 완두콩, 수박, 호박 중 하나를 입력하세요>완두콩\n",
      "완두콩는 작고 녹색이다\n"
     ]
    }
   ],
   "source": [
    "# 4-2\n",
    "small = ['체리', '완두콩']\n",
    "green = ['완두콩', '수박']\n",
    "sg = input('체리, 완두콩, 수박, 호박 중 하나를 입력하세요>')\n",
    "a=''\n",
    "if sg in small:\n",
    "    a = ' 작고'\n",
    "    if sg in green:\n",
    "        a += ' 녹색이다'\n",
    "    else:\n",
    "        a += ' 녹색이 아니다.'\n",
    "else:\n",
    "    a += ' 작지 않고'\n",
    "    if sg in green:\n",
    "        a += ' 녹색이다'\n",
    "    else:\n",
    "        a += ' 녹색이 아니다.'\n",
    "print(f'{sg}'+'는'+ a )\n"
   ]
  },
  {
   "cell_type": "code",
   "execution_count": 3,
   "metadata": {},
   "outputs": [
    {
     "name": "stdout",
     "output_type": "stream",
     "text": [
      "When an eel grabs your arm,\n",
      "    And it causes great harm,\n",
      "    That's - a Moray!\n"
     ]
    }
   ],
   "source": [
    "# 5-1\n",
    "song = \"\"\"When an eel grabs your arm,\n",
    "    And it causes great harm,\n",
    "    That's - a moray!\"\"\"\n",
    "song = song.replace(' m', ' M')\n",
    "print(song)"
   ]
  },
  {
   "cell_type": "code",
   "execution_count": 20,
   "metadata": {},
   "outputs": [
    {
     "name": "stdout",
     "output_type": "stream",
     "text": [
      "Q: We don't serve strings around here. Are you a string?\n",
      "A: No I'm a frayed knot\n",
      "\n",
      "Q: What is said on Father's DAy in the forest?\n",
      "A: 'Pop!' goes the weasel.'\n",
      "\n",
      "Q: what makes the sound 'Sis! Boom! Bah!'?\n",
      "A: An exploding sheep\n",
      "\n"
     ]
    }
   ],
   "source": [
    "# 5-2\n",
    "questions =[\n",
    "    \"We don't serve strings around here. Are you a string?\",\n",
    "    \"What is said on Father's DAy in the forest?\",\n",
    "    \"what makes the sound 'Sis! Boom! Bah!'?\"\n",
    "]\n",
    "answers = [\n",
    "    \"An exploding sheep\",\n",
    "    \"No I'm a frayed knot\",\n",
    "    \"'Pop!' goes the weasel.'\"\n",
    "]\n",
    "q_a = ( (0,1), (1,2), (2,0))\n",
    "for q, a in q_a:\n",
    "    print(\"Q:\", questions[q])\n",
    "    print(\"A:\", answers[a])\n",
    "    print()\n",
    "    "
   ]
  },
  {
   "cell_type": "code",
   "execution_count": 3,
   "metadata": {},
   "outputs": [
    {
     "name": "stdout",
     "output_type": "stream",
     "text": [
      "My kitty cat likes roast beef,\n",
      "My kitty cat likes ham,\n",
      "My kitty cat fell on his head\n",
      "And now thinks he's a calm\n"
     ]
    }
   ],
   "source": [
    "# 5-3\n",
    "story = [\"My kitty cat likes %s,\",\"My kitty cat likes %s,\",\n",
    "        \"My kitty cat fell on his %s\", \"And now thinks he's a %s\" ]\n",
    "key = [\"roast beef\", \"ham\", \"head\", \"calm\"]\n",
    "for i in range(len(story)):\n",
    "    print(story[i] % key[i])"
   ]
  },
  {
   "cell_type": "code",
   "execution_count": 6,
   "metadata": {},
   "outputs": [],
   "source": [
    "# 5-4\n",
    "letter = ''' Dear {salutation} {name},\n",
    "\n",
    "Thank you for your letter. We are sorry that our {product} {verbed} in your {room}.\n",
    "Please note that it should bever be used in a {room}, especially near any {animals}.\n",
    "\n",
    "Send us your receipt and {amount} for shipping and handdling. We will send you another {product} that,\n",
    "in our tests, is {persent}% less likely to have {verbed}.\n",
    "\n",
    "Thank you for your support.\n",
    "Sincerely\n",
    "{spokesman}\n",
    "{job_title}\n",
    "'''"
   ]
  },
  {
   "cell_type": "code",
   "execution_count": 7,
   "metadata": {},
   "outputs": [
    {
     "name": "stdout",
     "output_type": "stream",
     "text": [
      " Dear 인삿말 이름,\n",
      "\n",
      "Thank you for your letter. We are sorry that our 상품 동사 in your 방.\n",
      "Please note that it should bever be used in a 방, especially near any 동물들.\n",
      "\n",
      "Send us your receipt and 총액 for shipping and handdling. We will send you another 상품 that,\n",
      "in our tests, is 퍼센트% less likely to have 동사.\n",
      "\n",
      "Thank you for your support.\n",
      "Sincerely\n",
      "대변인\n",
      "직책\n",
      "\n"
     ]
    }
   ],
   "source": [
    "# 5-5\n",
    "print(letter.format(salutation = '인삿말', name = '이름', product ='상품',\n",
    "             verbed='동사', room='방', animals='동물들', amount='총액',\n",
    "            persent='퍼센트', spokesman='대변인', job_title = '직책'))"
   ]
  },
  {
   "cell_type": "code",
   "execution_count": 28,
   "metadata": {},
   "outputs": [
    {
     "name": "stdout",
     "output_type": "stream",
     "text": [
      "Ducky McDuckface\n",
      "Gourdy McGourdface\n",
      "Spitzy McSpitzface\n"
     ]
    }
   ],
   "source": [
    "# 5-6\n",
    "mc = ['duck', 'gourd', 'spitz']\n",
    "rule = '%sy Mc%sface'\n",
    "for mcname in mc:\n",
    "    mcc = mcname.capitalize()\n",
    "    print(rule % (mcc,mcc))"
   ]
  },
  {
   "cell_type": "code",
   "execution_count": 24,
   "metadata": {},
   "outputs": [
    {
     "name": "stdout",
     "output_type": "stream",
     "text": [
      "Ducky McDuckface\n",
      "Gourdy McGourdface\n",
      "Spitzy McSpitzface\n"
     ]
    }
   ],
   "source": [
    "# 5-7\n",
    "rule2 = '{}y Mc{}face'\n",
    "\n",
    "for mcname in mc:\n",
    "    mcc = mcname.capitalize()\n",
    "    print(rule2.format(mcc,mcc))"
   ]
  },
  {
   "cell_type": "code",
   "execution_count": 26,
   "metadata": {},
   "outputs": [
    {
     "name": "stdout",
     "output_type": "stream",
     "text": [
      "Ducky McDuckface\n",
      "Gourdy McGourdface\n",
      "Spitzy McSpitzface\n"
     ]
    }
   ],
   "source": [
    "5-8\n",
    "for mcname in mc:\n",
    "    mcc = mcname.capitalize()\n",
    "    print(f'{mcc}y Mc{mcc}face')"
   ]
  },
  {
   "cell_type": "code",
   "execution_count": null,
   "metadata": {},
   "outputs": [],
   "source": []
  }
 ],
 "metadata": {
  "kernelspec": {
   "display_name": "Python 3",
   "language": "python",
   "name": "python3"
  },
  "language_info": {
   "codemirror_mode": {
    "name": "ipython",
    "version": 3
   },
   "file_extension": ".py",
   "mimetype": "text/x-python",
   "name": "python",
   "nbconvert_exporter": "python",
   "pygments_lexer": "ipython3",
   "version": "3.8.3"
  }
 },
 "nbformat": 4,
 "nbformat_minor": 4
}
