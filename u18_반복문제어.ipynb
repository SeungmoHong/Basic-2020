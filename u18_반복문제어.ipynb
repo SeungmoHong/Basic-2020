{
 "cells": [
  {
   "cell_type": "markdown",
   "metadata": {},
   "source": [
    "# Unit 18. break, continue로 반복문 제어하기"
   ]
  },
  {
   "cell_type": "markdown",
   "metadata": {},
   "source": [
    "break"
   ]
  },
  {
   "cell_type": "code",
   "execution_count": 16,
   "metadata": {
    "scrolled": true
   },
   "outputs": [
    {
     "name": "stdout",
     "output_type": "stream",
     "text": [
      "100\n"
     ]
    }
   ],
   "source": [
    "i = 0\n",
    "while True:\n",
    "    i += 1\n",
    "    if i==100:\n",
    "        break\n",
    "print(i)"
   ]
  },
  {
   "cell_type": "code",
   "execution_count": 17,
   "metadata": {},
   "outputs": [
    {
     "name": "stdout",
     "output_type": "stream",
     "text": [
      "100\n"
     ]
    }
   ],
   "source": [
    "for i in range(10000):\n",
    "    if i == 100:\n",
    "        break\n",
    "print(i)"
   ]
  },
  {
   "cell_type": "markdown",
   "metadata": {},
   "source": [
    "continue\n"
   ]
  },
  {
   "cell_type": "code",
   "execution_count": 19,
   "metadata": {},
   "outputs": [
    {
     "name": "stdout",
     "output_type": "stream",
     "text": [
      "2 4 6 8 10 "
     ]
    }
   ],
   "source": [
    "# continue를 통한 결과값 건너뛰기(for, while둘 다 가능)\n",
    "i = 0\n",
    "while i <= 10:\n",
    "    i += 1\n",
    "    if i % 2 == 1 :\n",
    "        continue\n",
    "    print(i, end= ' ')"
   ]
  },
  {
   "cell_type": "code",
   "execution_count": 24,
   "metadata": {},
   "outputs": [],
   "source": [
    "#아무일도 안하게 하기 pass\n",
    "for i in range(10):\n",
    "    pass"
   ]
  },
  {
   "cell_type": "code",
   "execution_count": 28,
   "metadata": {},
   "outputs": [
    {
     "name": "stdout",
     "output_type": "stream",
     "text": [
      "3 13 23 33 43 53 63 73 "
     ]
    }
   ],
   "source": [
    "i = 0\n",
    "while True:\n",
    "    if i % 10 != 3:\n",
    "        i += 1\n",
    "        continue\n",
    "    if i >73:\n",
    "        break\n",
    "    print(i, end=' ')\n",
    "\n",
    "    i += 1"
   ]
  },
  {
   "cell_type": "code",
   "execution_count": 51,
   "metadata": {},
   "outputs": [
    {
     "name": "stdout",
     "output_type": "stream",
     "text": [
      "1 20\n",
      "1 2 4 5 6 7 8 9 10 11 12 14 15 16 17 18 19 20 "
     ]
    }
   ],
   "source": [
    "# 퀴즈\n",
    "start, stop = map(int, input().split())\n",
    "\n",
    "i = start\n",
    "while True:\n",
    "    if i % 10 == 3:\n",
    "        i += 1\n",
    "        continue\n",
    "        i += 1\n",
    "    if i > stop:\n",
    "        break\n",
    "    print(i, end=' ')\n",
    "    i += 1\n",
    "    \n"
   ]
  },
  {
   "cell_type": "markdown",
   "metadata": {},
   "source": [
    "# "
   ]
  },
  {
   "cell_type": "code",
   "execution_count": null,
   "metadata": {},
   "outputs": [],
   "source": []
  }
 ],
 "metadata": {
  "kernelspec": {
   "display_name": "Python 3",
   "language": "python",
   "name": "python3"
  },
  "language_info": {
   "codemirror_mode": {
    "name": "ipython",
    "version": 3
   },
   "file_extension": ".py",
   "mimetype": "text/x-python",
   "name": "python",
   "nbconvert_exporter": "python",
   "pygments_lexer": "ipython3",
   "version": "3.8.3"
  }
 },
 "nbformat": 4,
 "nbformat_minor": 4
}
