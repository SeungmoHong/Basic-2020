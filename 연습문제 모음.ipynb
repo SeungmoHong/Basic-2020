{
 "cells": [
  {
   "cell_type": "code",
   "execution_count": 3,
   "metadata": {},
   "outputs": [
    {
     "name": "stdout",
     "output_type": "stream",
     "text": [
      "50000\n",
      "Cash5000\n",
      "45000\n"
     ]
    }
   ],
   "source": [
    "# 13 연습문제\n",
    "price = int(input())\n",
    "coupon = input()\n",
    "if coupon == 'Cash3000':\n",
    "    price -= 3000\n",
    "if coupon == 'Cash5000':\n",
    "    price -= 5000\n",
    "print(price)"
   ]
  },
  {
   "cell_type": "code",
   "execution_count": 27,
   "metadata": {},
   "outputs": [
    {
     "name": "stdout",
     "output_type": "stream",
     "text": [
      "80 80 80 80\n",
      "합격\n"
     ]
    }
   ],
   "source": [
    "# 14 연습문제\n",
    "korean, english, math, science=map(int,input().split())\n",
    "x=(korean+english+math+science)/4\n",
    " \n",
    "if korean<0 or korean>100 or english<0 or english>100 or math<0 or math>100 or science<0 or science>100:\n",
    "    print('잘못된 점수')\n",
    " \n",
    "else:\n",
    "    if x>=80:\n",
    "        print('합격')\n",
    "    else:\n",
    "        print('불합격')\n"
   ]
  },
  {
   "cell_type": "code",
   "execution_count": 28,
   "metadata": {},
   "outputs": [
    {
     "name": "stdout",
     "output_type": "stream",
     "text": [
      "15\n",
      "7950\n"
     ]
    }
   ],
   "source": [
    "# 15 연습문제\n",
    "age = int(input())\n",
    "balance = 9000 \n",
    "if age <= 12 :\n",
    "    balance -= 650\n",
    "elif age <= 18 :\n",
    "    balance -= 1050\n",
    "else :\n",
    "    balance -= 1250\n",
    "    \n",
    "print(balance)"
   ]
  },
  {
   "cell_type": "code",
   "execution_count": 1,
   "metadata": {},
   "outputs": [
    {
     "name": "stdout",
     "output_type": "stream",
     "text": [
      "23\n",
      "                                            * \n",
      "                                          * * * \n",
      "                                        * * * * * \n",
      "                                      * * * * * * * \n",
      "                                    * * * * * * * * * \n",
      "                                  * * * * * * * * * * * \n",
      "                                * * * * * * * * * * * * * \n",
      "                              * * * * * * * * * * * * * * * \n",
      "                            * * * * * * * * * * * * * * * * * \n",
      "                          * * * * * * * * * * * * * * * * * * * \n",
      "                        * * * * * * * * * * * * * * * * * * * * * \n",
      "                      * * * * * * * * * * * * * * * * * * * * * * * \n",
      "                    * * * * * * * * * * * * * * * * * * * * * * * * * \n",
      "                  * * * * * * * * * * * * * * * * * * * * * * * * * * * \n",
      "                * * * * * * * * * * * * * * * * * * * * * * * * * * * * * \n",
      "              * * * * * * * * * * * * * * * * * * * * * * * * * * * * * * * \n",
      "            * * * * * * * * * * * * * * * * * * * * * * * * * * * * * * * * * \n",
      "          * * * * * * * * * * * * * * * * * * * * * * * * * * * * * * * * * * * \n",
      "        * * * * * * * * * * * * * * * * * * * * * * * * * * * * * * * * * * * * * \n",
      "      * * * * * * * * * * * * * * * * * * * * * * * * * * * * * * * * * * * * * * * \n",
      "    * * * * * * * * * * * * * * * * * * * * * * * * * * * * * * * * * * * * * * * * * \n",
      "  * * * * * * * * * * * * * * * * * * * * * * * * * * * * * * * * * * * * * * * * * * * \n",
      "* * * * * * * * * * * * * * * * * * * * * * * * * * * * * * * * * * * * * * * * * * * * * \n"
     ]
    }
   ],
   "source": [
    "# 16 연습문제 (틀렸다 함 값은 잘나옴)\n",
    "x = int(input())\n",
    "\n",
    "for i in range(x):\n",
    "    for k in range((x-1)-i):\n",
    "        print(\"  \", end = '')\n",
    "    for k in range((i*2)+1) :\n",
    "        print(\"*\", end = ' ')\n",
    "    print()"
   ]
  },
  {
   "cell_type": "code",
   "execution_count": 13,
   "metadata": {},
   "outputs": [
    {
     "name": "stdout",
     "output_type": "stream",
     "text": [
      "alpha bravo charlie delta\n",
      "10 20 30 40\n"
     ]
    }
   ],
   "source": [
    "keys = input().split()\n",
    "values = map(int, input().split())\n",
    " \n",
    "x = dict(zip(keys, values))"
   ]
  },
  {
   "cell_type": "code",
   "execution_count": 14,
   "metadata": {},
   "outputs": [
    {
     "name": "stdout",
     "output_type": "stream",
     "text": [
      "{'alpha': 10, 'bravo': 20}\n"
     ]
    }
   ],
   "source": [
    "x.pop('delta')\n",
    "x={key:value for key,value in x.items() if value!=30}\n",
    "    \n",
    "print(x)"
   ]
  },
  {
   "cell_type": "code",
   "execution_count": 19,
   "metadata": {},
   "outputs": [
    {
     "data": {
      "text/plain": [
       "{3,\n",
       " 6,\n",
       " 9,\n",
       " 12,\n",
       " 15,\n",
       " 18,\n",
       " 21,\n",
       " 24,\n",
       " 27,\n",
       " 30,\n",
       " 33,\n",
       " 36,\n",
       " 39,\n",
       " 42,\n",
       " 45,\n",
       " 48,\n",
       " 51,\n",
       " 54,\n",
       " 57,\n",
       " 60,\n",
       " 63,\n",
       " 66,\n",
       " 69,\n",
       " 72,\n",
       " 75,\n",
       " 78,\n",
       " 81,\n",
       " 84,\n",
       " 87,\n",
       " 90,\n",
       " 93,\n",
       " 96,\n",
       " 99}"
      ]
     },
     "execution_count": 19,
     "metadata": {},
     "output_type": "execute_result"
    }
   ],
   "source": [
    "a = {i for i in range(1, 101) if i % 3 == 0}\n",
    "a"
   ]
  },
  {
   "cell_type": "code",
   "execution_count": null,
   "metadata": {},
   "outputs": [],
   "source": []
  }
 ],
 "metadata": {
  "kernelspec": {
   "display_name": "Python 3",
   "language": "python",
   "name": "python3"
  },
  "language_info": {
   "codemirror_mode": {
    "name": "ipython",
    "version": 3
   },
   "file_extension": ".py",
   "mimetype": "text/x-python",
   "name": "python",
   "nbconvert_exporter": "python",
   "pygments_lexer": "ipython3",
   "version": "3.8.3"
  }
 },
 "nbformat": 4,
 "nbformat_minor": 4
}
