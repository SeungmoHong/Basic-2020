{
 "cells": [
  {
   "cell_type": "code",
   "execution_count": 3,
   "metadata": {},
   "outputs": [
    {
     "name": "stdout",
     "output_type": "stream",
     "text": [
      "50000\n",
      "Cash5000\n",
      "45000\n"
     ]
    }
   ],
   "source": [
    "# 13 연습문제\n",
    "price = int(input())\n",
    "coupon = input()\n",
    "if coupon == 'Cash3000':\n",
    "    price -= 3000\n",
    "if coupon == 'Cash5000':\n",
    "    price -= 5000\n",
    "print(price)"
   ]
  },
  {
   "cell_type": "code",
   "execution_count": 27,
   "metadata": {},
   "outputs": [
    {
     "name": "stdout",
     "output_type": "stream",
     "text": [
      "80 80 80 80\n",
      "합격\n"
     ]
    }
   ],
   "source": [
    "# 14 연습문제\n",
    "korean, english, math, science=map(int,input().split())\n",
    "x=(korean+english+math+science)/4\n",
    " \n",
    "if korean<0 or korean>100 or english<0 or english>100 or math<0 or math>100 or science<0 or science>100:\n",
    "    print('잘못된 점수')\n",
    " \n",
    "else:\n",
    "    if x>=80:\n",
    "        print('합격')\n",
    "    else:\n",
    "        print('불합격')\n"
   ]
  },
  {
   "cell_type": "code",
   "execution_count": 28,
   "metadata": {},
   "outputs": [
    {
     "name": "stdout",
     "output_type": "stream",
     "text": [
      "15\n",
      "7950\n"
     ]
    }
   ],
   "source": [
    "# 15 연습문제\n",
    "age = int(input())\n",
    "balance = 9000 \n",
    "if age <= 12 :\n",
    "    balance -= 650\n",
    "elif age <= 18 :\n",
    "    balance -= 1050\n",
    "else :\n",
    "    balance -= 1250\n",
    "    \n",
    "print(balance)"
   ]
  },
  {
   "cell_type": "code",
   "execution_count": 36,
   "metadata": {},
   "outputs": [
    {
     "name": "stdout",
     "output_type": "stream",
     "text": [
      "23\n",
      "                                            * \n",
      "                                          * * * \n",
      "                                        * * * * * \n",
      "                                      * * * * * * * \n",
      "                                    * * * * * * * * * \n",
      "                                  * * * * * * * * * * * \n",
      "                                * * * * * * * * * * * * * \n",
      "                              * * * * * * * * * * * * * * * \n",
      "                            * * * * * * * * * * * * * * * * * \n",
      "                          * * * * * * * * * * * * * * * * * * * \n",
      "                        * * * * * * * * * * * * * * * * * * * * * \n",
      "                      * * * * * * * * * * * * * * * * * * * * * * * \n",
      "                    * * * * * * * * * * * * * * * * * * * * * * * * * \n",
      "                  * * * * * * * * * * * * * * * * * * * * * * * * * * * \n",
      "                * * * * * * * * * * * * * * * * * * * * * * * * * * * * * \n",
      "              * * * * * * * * * * * * * * * * * * * * * * * * * * * * * * * \n",
      "            * * * * * * * * * * * * * * * * * * * * * * * * * * * * * * * * * \n",
      "          * * * * * * * * * * * * * * * * * * * * * * * * * * * * * * * * * * * \n",
      "        * * * * * * * * * * * * * * * * * * * * * * * * * * * * * * * * * * * * * \n",
      "      * * * * * * * * * * * * * * * * * * * * * * * * * * * * * * * * * * * * * * * \n",
      "    * * * * * * * * * * * * * * * * * * * * * * * * * * * * * * * * * * * * * * * * * \n",
      "  * * * * * * * * * * * * * * * * * * * * * * * * * * * * * * * * * * * * * * * * * * * \n",
      "* * * * * * * * * * * * * * * * * * * * * * * * * * * * * * * * * * * * * * * * * * * * * \n"
     ]
    }
   ],
   "source": [
    "# 16 연습문제 (틀렸다 함 값은 잘나옴)\n",
    "x = int(input())\n",
    "\n",
    "for i in range(x):\n",
    "    for k in range((x-1)-i):\n",
    "        print(\"  \", end = '')\n",
    "    for k in range((i*2)+1) :\n",
    "        print(\"*\", end = ' ')\n",
    "    print()"
   ]
  },
  {
   "cell_type": "code",
   "execution_count": null,
   "metadata": {},
   "outputs": [],
   "source": []
  },
  {
   "cell_type": "code",
   "execution_count": null,
   "metadata": {},
   "outputs": [],
   "source": []
  }
 ],
 "metadata": {
  "kernelspec": {
   "display_name": "Python 3",
   "language": "python",
   "name": "python3"
  },
  "language_info": {
   "codemirror_mode": {
    "name": "ipython",
    "version": 3
   },
   "file_extension": ".py",
   "mimetype": "text/x-python",
   "name": "python",
   "nbconvert_exporter": "python",
   "pygments_lexer": "ipython3",
   "version": "3.8.3"
  }
 },
 "nbformat": 4,
 "nbformat_minor": 4
}
