{
 "metadata": {
  "language_info": {
   "codemirror_mode": {
    "name": "ipython",
    "version": 3
   },
   "file_extension": ".py",
   "mimetype": "text/x-python",
   "name": "python",
   "nbconvert_exporter": "python",
   "pygments_lexer": "ipython3",
   "version": "3.8.3-final"
  },
  "orig_nbformat": 2,
  "kernelspec": {
   "name": "Python 3.8.3 64-bit (conda)",
   "display_name": "Python 3.8.3 64-bit (conda)",
   "metadata": {
    "interpreter": {
     "hash": "b3ba2566441a7c06988d0923437866b63cedc61552a5af99d1f4fb67d367b25f"
    }
   }
  }
 },
 "nbformat": 4,
 "nbformat_minor": 2,
 "cells": [
  {
   "source": [
    "## 12장"
   ],
   "cell_type": "markdown",
   "metadata": {}
  },
  {
   "cell_type": "code",
   "execution_count": 90,
   "metadata": {},
   "outputs": [],
   "source": [
    "mammoth = '''\n",
    "We have seen the Queen of cheese,\n",
    "Laying quietly at your ease,\n",
    "Gently fanned by evening breeze,\n",
    "Thy fair form no flies dare seize.\n",
    "\n",
    "All gaily dressed soon you'll go\n",
    "To the great Provincial Show,\n",
    "To be admired by many a beau\n",
    "In the city of Toronto.\n",
    "\n",
    "Cows numerous as a swarm of bees,\n",
    "Or as the leaves upon the trees,\n",
    "It did require to make thee please,\n",
    "And stand unrivalled Queen of Cheese.\n",
    "\n",
    "May you not receive a scar as\n",
    "We have heard that Mr. Harris\n",
    "Intends to send you off as far as\n",
    "The great World's show at Paris.\n",
    "\n",
    "Of the youth beware of these,\n",
    "For some of them might rudely squeeze\n",
    "And bite your cheek; then songs or glees\n",
    "We could not sing o' Queen of Cheese.\n",
    "\n",
    "We'rt thou suspended from baloon,\n",
    "You'd cast a shade, even at noon,\n",
    "Folks would think it was the moon\n",
    "About to fall and crush them soon.\n",
    "'''"
   ]
  },
  {
   "cell_type": "code",
   "execution_count": 91,
   "metadata": {},
   "outputs": [
    {
     "output_type": "execute_result",
     "data": {
      "text/plain": [
       "['cheese', 'cial', 'city', 'ceive', 'car', 'cheek', 'could', 'cast', 'crush']"
      ]
     },
     "metadata": {},
     "execution_count": 91
    }
   ],
   "source": [
    "import re\n",
    "re.findall('c\\w*', mammoth)"
   ]
  },
  {
   "cell_type": "code",
   "execution_count": 92,
   "metadata": {},
   "outputs": [
    {
     "output_type": "execute_result",
     "data": {
      "text/plain": [
       "[' city ', ' cast ']"
      ]
     },
     "metadata": {},
     "execution_count": 92
    }
   ],
   "source": [
    "re.findall(' c\\w{3} ', mammoth)"
   ]
  },
  {
   "cell_type": "code",
   "execution_count": 93,
   "metadata": {},
   "outputs": [
    {
     "output_type": "execute_result",
     "data": {
      "text/plain": [
       "['your ', 'fair ', 'Or ', 'scar ', 'far ', 'For ', 'your ', 'or ']"
      ]
     },
     "metadata": {},
     "execution_count": 93
    }
   ],
   "source": [
    "re.findall('\\w*r ', mammoth)"
   ]
  },
  {
   "cell_type": "code",
   "execution_count": 94,
   "metadata": {},
   "outputs": [
    {
     "output_type": "execute_result",
     "data": {
      "text/plain": [
       "[' Queen', ' quietly', ' beau', ' Queen', ' squeeze', ' Queen']"
      ]
     },
     "metadata": {},
     "execution_count": 94
    }
   ],
   "source": [
    "re.findall(' \\w*[aeiou]{3}\\w*', mammoth)"
   ]
  },
  {
   "source": [
    "## 13장"
   ],
   "cell_type": "markdown",
   "metadata": {}
  },
  {
   "cell_type": "code",
   "execution_count": 95,
   "metadata": {},
   "outputs": [],
   "source": [
    "import datetime\n",
    "now = datetime.date.today()\n",
    "with open('today.txt', 'w') as file:    \n",
    "    file.write(str(now))"
   ]
  },
  {
   "cell_type": "code",
   "execution_count": 96,
   "metadata": {},
   "outputs": [
    {
     "output_type": "stream",
     "name": "stdout",
     "text": [
      "2020-11-05\n"
     ]
    }
   ],
   "source": [
    "with open('today.txt', 'r') as file:    \n",
    "    today_string = file.read()                     \n",
    "print(today_string)    "
   ]
  },
  {
   "cell_type": "code",
   "execution_count": 97,
   "metadata": {},
   "outputs": [
    {
     "output_type": "execute_result",
     "data": {
      "text/plain": [
       "datetime.datetime(2020, 11, 5, 0, 0)"
      ]
     },
     "metadata": {},
     "execution_count": 97
    }
   ],
   "source": [
    "fmt = '%Y-%m-%d'\n",
    "datetime.datetime.strptime(today_string,fmt)"
   ]
  },
  {
   "cell_type": "code",
   "execution_count": 98,
   "metadata": {},
   "outputs": [],
   "source": [
    "birthday = datetime.date(1999, 7 , 7)\n"
   ]
  },
  {
   "cell_type": "code",
   "execution_count": 99,
   "metadata": {},
   "outputs": [
    {
     "output_type": "execute_result",
     "data": {
      "text/plain": [
       "'Wednesday'"
      ]
     },
     "metadata": {},
     "execution_count": 99
    }
   ],
   "source": [
    "day = '%A'\n",
    "birthday.strftime(day)"
   ]
  },
  {
   "cell_type": "code",
   "execution_count": 100,
   "metadata": {},
   "outputs": [
    {
     "output_type": "execute_result",
     "data": {
      "text/plain": [
       "datetime.date(2026, 11, 22)"
      ]
     },
     "metadata": {},
     "execution_count": 100
    }
   ],
   "source": [
    "one_day = datetime.timedelta(days=1)\n",
    "birthday + 10000*one_day"
   ]
  }
 ]
}