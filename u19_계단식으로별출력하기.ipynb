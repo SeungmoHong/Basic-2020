{
 "cells": [
  {
   "cell_type": "code",
   "execution_count": 113,
   "metadata": {},
   "outputs": [
    {
     "name": "stdout",
     "output_type": "stream",
     "text": [
      "k:0 k:1 k:2 k:3 k:4 \n",
      "k:0 k:1 k:2 k:3 k:4 \n",
      "k:0 k:1 k:2 k:3 k:4 \n",
      "k:0 k:1 k:2 k:3 k:4 \n",
      "k:0 k:1 k:2 k:3 k:4 \n"
     ]
    }
   ],
   "source": [
    "for i in range(5):   \n",
    "    for k in range(5):\n",
    "        print('k:', k, sep='', end=' ')\n",
    "    print() "
   ]
  },
  {
   "cell_type": "code",
   "execution_count": 10,
   "metadata": {},
   "outputs": [
    {
     "name": "stdout",
     "output_type": "stream",
     "text": [
      "*\n",
      "**\n",
      "***\n",
      "****\n",
      "*****\n"
     ]
    }
   ],
   "source": [
    "# 별 1사분면 그리기\n",
    "for i in range(1,6):   \n",
    "    for k in range(i):\n",
    "        print('*', end='')\n",
    "    print()"
   ]
  },
  {
   "cell_type": "code",
   "execution_count": 13,
   "metadata": {},
   "outputs": [
    {
     "name": "stdout",
     "output_type": "stream",
     "text": [
      "    *\n",
      "   **\n",
      "  ***\n",
      " ****\n",
      "*****\n"
     ]
    }
   ],
   "source": [
    "# 2사분면\n",
    "for i in range(5):\n",
    "    for k in range(4-i):\n",
    "        print(' ', end='')\n",
    "    for k in range(i+1):\n",
    "        print('*', end='')\n",
    "    print()"
   ]
  },
  {
   "cell_type": "code",
   "execution_count": 16,
   "metadata": {},
   "outputs": [
    {
     "name": "stdout",
     "output_type": "stream",
     "text": [
      "*****\n",
      " ****\n",
      "  ***\n",
      "   **\n",
      "    *\n"
     ]
    }
   ],
   "source": [
    "# 3사분면\n",
    "for i in range(5):\n",
    "    for k in range(i):\n",
    "        print(' ', end='')\n",
    "    for k in range(5-i):\n",
    "        print('*', end='')\n",
    "    print()"
   ]
  },
  {
   "cell_type": "code",
   "execution_count": 17,
   "metadata": {},
   "outputs": [
    {
     "name": "stdout",
     "output_type": "stream",
     "text": [
      "*****\n",
      "****\n",
      "***\n",
      "**\n",
      "*\n"
     ]
    }
   ],
   "source": [
    "# 4사분면\n",
    "for i in range(5):\n",
    "    for k in range(5-i):\n",
    "        print('*', end='')\n",
    "    print()"
   ]
  },
  {
   "cell_type": "code",
   "execution_count": 51,
   "metadata": {},
   "outputs": [
    {
     "name": "stdout",
     "output_type": "stream",
     "text": [
      "   *\n",
      "  ***\n",
      " *****\n",
      "*******\n"
     ]
    }
   ],
   "source": [
    "for i in range(4):\n",
    "    for k in range(3-i):\n",
    "        print(' ', end='')\n",
    "    for k in range(2*i+1):\n",
    "        print('*', end='')\n",
    "    print()"
   ]
  },
  {
   "cell_type": "code",
   "execution_count": 54,
   "metadata": {},
   "outputs": [
    {
     "name": "stdout",
     "output_type": "stream",
     "text": [
      " *****\n",
      "  ***\n",
      "   *\n"
     ]
    }
   ],
   "source": [
    "for i in range(3):\n",
    "    for k in range(i+1):\n",
    "        print(' ', end='')\n",
    "    for k in range(5-(i*2)):\n",
    "        print('*', end='')\n",
    "    print()"
   ]
  },
  {
   "cell_type": "code",
   "execution_count": 57,
   "metadata": {},
   "outputs": [
    {
     "name": "stdout",
     "output_type": "stream",
     "text": [
      "   *\n",
      "  ***\n",
      " *****\n",
      "*******\n",
      " *****\n",
      "  ***\n",
      "   *\n"
     ]
    }
   ],
   "source": [
    "for i in range(4):\n",
    "    for k in range(3-i):\n",
    "        print(' ', end='')\n",
    "    for k in range(2*i+1):\n",
    "        print('*', end='')\n",
    "    print()\n",
    "for i in range(3):\n",
    "    for k in range(i+1):\n",
    "        print(' ', end='')\n",
    "    for k in range(5-(i*2)):\n",
    "        print('*', end='')\n",
    "    print()"
   ]
  },
  {
   "cell_type": "code",
   "execution_count": 157,
   "metadata": {},
   "outputs": [
    {
     "name": "stdout",
     "output_type": "stream",
     "text": [
      "* * . . . * * . .\n",
      ". . . * . * * . .\n",
      ". * * . . . . * .\n",
      "* . . * . . * . .\n",
      ". * . * . * . * .\n",
      ". * * * * * . . .\n",
      "* * * * . * * . .\n",
      ". * * * * . * * .\n"
     ]
    }
   ],
   "source": [
    "import random as rd\n",
    "x = ['*','.']\n",
    "for i in range(8):\n",
    "    for k in range(8):\n",
    "        print(rd.choice(x), end=' ')\n",
    "    print('.')\n"
   ]
  },
  {
   "cell_type": "code",
   "execution_count": 147,
   "metadata": {},
   "outputs": [
    {
     "name": "stdout",
     "output_type": "stream",
     "text": [
      "    * \n",
      "  * * * \n",
      "* * * * * \n"
     ]
    }
   ],
   "source": [
    "x = 5\n",
    "\n",
    "for i in range(3):\n",
    "    for k in range(2-i):\n",
    "        print(\"  \", end = '')\n",
    "    for k in range(i*2+1):\n",
    "        print(\"*\", end = ' ')\n",
    "    print()"
   ]
  },
  {
   "cell_type": "code",
   "execution_count": 161,
   "metadata": {},
   "outputs": [
    {
     "name": "stdout",
     "output_type": "stream",
     "text": [
      "M:9\n",
      "N:9\n",
      "**..*....\n",
      "*........\n",
      ".........\n",
      "*........\n",
      ".**...*..\n",
      "..***...*\n",
      ".*...*..*\n",
      ".........\n",
      ".......*.\n",
      "output\n",
      "**11*1000\n",
      "*31111000\n",
      "220000000\n",
      "*32101110\n",
      "2**422*21\n",
      "24***323*\n",
      "1*333*12*\n",
      "111011222\n",
      "0000001*1\n"
     ]
    }
   ],
   "source": [
    "# 지뢰찾기 나중에 다시보자\n",
    "import random\n",
    "m = int(input(\"M:\"))\n",
    "n = int(input(\"N:\"))\n",
    "if not(n > 0 and m <= 100):\n",
    "    raise Exception(\"N > 0, M <= 100\")\n",
    "mn = [[random.choice(['.','.','*']) for x in range(n)] for y in range(m)]\n",
    "for y in mn:\n",
    "    print(''.join(y))\n",
    "r = mn.copy()\n",
    "for y, yd in enumerate(r):\n",
    "    for x, xd in enumerate(yd):\n",
    "        if r[y][x] == '*': continue\n",
    "        count = 0\n",
    "        c = [[''] if y - 1 < 0 else r[y-1][0 if x - 1 < 0 else x - 1:x+2],\n",
    "             r[y][0 if x - 1 < 0 else x - 1:x+2],             \n",
    "             [''] if y + 1 >= m else r[y+1][0 if x - 1 < 0 else x - 1:x+2]]\n",
    "        for z in c:\n",
    "            count+=z.count('*')\n",
    "        r[y][x] = str(count)\n",
    "\n",
    "print(\"output\")\n",
    "for y in r:\n",
    "    print(''.join(y))"
   ]
  },
  {
   "cell_type": "code",
   "execution_count": null,
   "metadata": {},
   "outputs": [],
   "source": []
  },
  {
   "cell_type": "code",
   "execution_count": null,
   "metadata": {},
   "outputs": [],
   "source": []
  }
 ],
 "metadata": {
  "kernelspec": {
   "display_name": "Python 3",
   "language": "python",
   "name": "python3"
  },
  "language_info": {
   "codemirror_mode": {
    "name": "ipython",
    "version": 3
   },
   "file_extension": ".py",
   "mimetype": "text/x-python",
   "name": "python",
   "nbconvert_exporter": "python",
   "pygments_lexer": "ipython3",
   "version": "3.8.3"
  }
 },
 "nbformat": 4,
 "nbformat_minor": 4
}
