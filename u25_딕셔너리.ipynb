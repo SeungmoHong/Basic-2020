{
 "cells": [
  {
   "cell_type": "markdown",
   "metadata": {},
   "source": [
    "# Unit 25. 딕셔너리 응용하기"
   ]
  },
  {
   "cell_type": "code",
   "execution_count": 1,
   "metadata": {},
   "outputs": [
    {
     "data": {
      "text/plain": [
       "{'a': 10, 'b': 20, 'c': 30, 'd': 40, 'e': None}"
      ]
     },
     "execution_count": 1,
     "metadata": {},
     "output_type": "execute_result"
    }
   ],
   "source": [
    "x = {'a': 10, 'b': 20, 'c': 30, 'd': 40}\n",
    "x.setdefault('e')   #.setdefault('키',값) 값을 안넣으면None\n",
    "x"
   ]
  },
  {
   "cell_type": "code",
   "execution_count": 2,
   "metadata": {},
   "outputs": [
    {
     "data": {
      "text/plain": [
       "{'a': 10, 'b': 20, 'c': 30, 'd': 40, 'e': None, 'f': 100}"
      ]
     },
     "execution_count": 2,
     "metadata": {},
     "output_type": "execute_result"
    }
   ],
   "source": [
    "x.setdefault('f',100)\n",
    "x"
   ]
  },
  {
   "cell_type": "code",
   "execution_count": 3,
   "metadata": {},
   "outputs": [],
   "source": [
    "# 딕셔너리 업데이트 추가or변경가능\n",
    "x.update(e=50)"
   ]
  },
  {
   "cell_type": "code",
   "execution_count": 4,
   "metadata": {},
   "outputs": [
    {
     "data": {
      "text/plain": [
       "{'a': 10, 'b': 20, 'c': 30, 'd': 40, 'e': 50, 'f': 100}"
      ]
     },
     "execution_count": 4,
     "metadata": {},
     "output_type": "execute_result"
    }
   ],
   "source": [
    "x"
   ]
  },
  {
   "cell_type": "code",
   "execution_count": 5,
   "metadata": {},
   "outputs": [
    {
     "data": {
      "text/plain": [
       "{'a': 900, 'b': 20, 'c': 30, 'd': 40, 'e': 50, 'f': 60}"
      ]
     },
     "execution_count": 5,
     "metadata": {},
     "output_type": "execute_result"
    }
   ],
   "source": [
    "x.update(a=900, f=60)\n",
    "x"
   ]
  },
  {
   "cell_type": "code",
   "execution_count": 7,
   "metadata": {},
   "outputs": [
    {
     "data": {
      "text/plain": [
       "{1: 'ONE', 2: 'two', 3: 'THREE'}"
      ]
     },
     "execution_count": 7,
     "metadata": {},
     "output_type": "execute_result"
    }
   ],
   "source": [
    "y = {1: 'one', 2: 'two'}\n",
    "y.update({1: 'ONE', 3: 'THREE'})\n",
    "y"
   ]
  },
  {
   "cell_type": "code",
   "execution_count": 8,
   "metadata": {},
   "outputs": [
    {
     "data": {
      "text/plain": [
       "{1: 'ONE', 2: 'TWO', 3: 'THREE', 4: 'FOUR'}"
      ]
     },
     "execution_count": 8,
     "metadata": {},
     "output_type": "execute_result"
    }
   ],
   "source": [
    "y.update([[2, 'TWO'], [4, 'FOUR']])\n",
    "y"
   ]
  },
  {
   "cell_type": "code",
   "execution_count": 12,
   "metadata": {},
   "outputs": [
    {
     "data": {
      "text/plain": [
       "{1: 'one', 2: 'two', 3: 'THREE', 4: 'FOUR'}"
      ]
     },
     "execution_count": 12,
     "metadata": {},
     "output_type": "execute_result"
    }
   ],
   "source": [
    "y.update(zip([1, 2], ['one', 'two']))\n",
    "y"
   ]
  },
  {
   "cell_type": "code",
   "execution_count": 13,
   "metadata": {},
   "outputs": [
    {
     "data": {
      "text/plain": [
       "{'b': 20, 'c': 30, 'd': 40}"
      ]
     },
     "execution_count": 13,
     "metadata": {},
     "output_type": "execute_result"
    }
   ],
   "source": [
    "# 키와 값 둘 다 삭제\n",
    "x = {'a': 10, 'b': 20, 'c': 30, 'd': 40}\n",
    "x.pop('a')\n",
    "x"
   ]
  },
  {
   "cell_type": "code",
   "execution_count": 16,
   "metadata": {},
   "outputs": [
    {
     "data": {
      "text/plain": [
       "(0, {'c': 30, 'd': 40})"
      ]
     },
     "execution_count": 16,
     "metadata": {},
     "output_type": "execute_result"
    }
   ],
   "source": [
    "z = x.pop('b', 0)\n",
    "z,x"
   ]
  },
  {
   "cell_type": "code",
   "execution_count": 17,
   "metadata": {},
   "outputs": [
    {
     "data": {
      "text/plain": [
       "{'d': 40}"
      ]
     },
     "execution_count": 17,
     "metadata": {},
     "output_type": "execute_result"
    }
   ],
   "source": [
    "del x['c']\n",
    "x"
   ]
  },
  {
   "cell_type": "code",
   "execution_count": 18,
   "metadata": {},
   "outputs": [
    {
     "data": {
      "text/plain": [
       "('d', 40)"
      ]
     },
     "execution_count": 18,
     "metadata": {},
     "output_type": "execute_result"
    }
   ],
   "source": [
    "x = {'a': 10, 'b': 20, 'c': 30, 'd': 40}\n",
    "x.popitem()"
   ]
  },
  {
   "cell_type": "code",
   "execution_count": 19,
   "metadata": {},
   "outputs": [
    {
     "data": {
      "text/plain": [
       "{'a': 10, 'b': 20, 'c': 30}"
      ]
     },
     "execution_count": 19,
     "metadata": {},
     "output_type": "execute_result"
    }
   ],
   "source": [
    "x"
   ]
  },
  {
   "cell_type": "code",
   "execution_count": 22,
   "metadata": {},
   "outputs": [
    {
     "data": {
      "text/plain": [
       "{}"
      ]
     },
     "execution_count": 22,
     "metadata": {},
     "output_type": "execute_result"
    }
   ],
   "source": [
    "x.clear()\n",
    "x"
   ]
  },
  {
   "cell_type": "code",
   "execution_count": 28,
   "metadata": {},
   "outputs": [
    {
     "data": {
      "text/plain": [
       "10"
      ]
     },
     "execution_count": 28,
     "metadata": {},
     "output_type": "execute_result"
    }
   ],
   "source": [
    "x = {'a': 10, 'b': 20, 'c': 30, 'd': 40}\n",
    "x.get('a')"
   ]
  },
  {
   "cell_type": "markdown",
   "metadata": {},
   "source": [
    "### 딕셔너리에서 키-값 쌍을 모두 가져오기"
   ]
  },
  {
   "cell_type": "code",
   "execution_count": 54,
   "metadata": {},
   "outputs": [
    {
     "data": {
      "text/plain": [
       "dict_items([('a', 10), ('b', 20), ('c', 30), ('d', 40)])"
      ]
     },
     "execution_count": 54,
     "metadata": {},
     "output_type": "execute_result"
    }
   ],
   "source": [
    "x = {'a': 10, 'b': 20, 'c': 30, 'd': 40}\n",
    "y = x.items()\n",
    "y"
   ]
  },
  {
   "cell_type": "code",
   "execution_count": 33,
   "metadata": {},
   "outputs": [
    {
     "name": "stdout",
     "output_type": "stream",
     "text": [
      "a 10\n",
      "b 20\n",
      "c 30\n",
      "d 40\n"
     ]
    }
   ],
   "source": [
    "for k,v in y:\n",
    "    print(k,v)"
   ]
  },
  {
   "cell_type": "code",
   "execution_count": 35,
   "metadata": {},
   "outputs": [
    {
     "data": {
      "text/plain": [
       "dict_keys(['a', 'b', 'c', 'd'])"
      ]
     },
     "execution_count": 35,
     "metadata": {},
     "output_type": "execute_result"
    }
   ],
   "source": [
    "x.keys()"
   ]
  },
  {
   "cell_type": "code",
   "execution_count": 37,
   "metadata": {},
   "outputs": [
    {
     "data": {
      "text/plain": [
       "dict_values([10, 20, 30, 40])"
      ]
     },
     "execution_count": 37,
     "metadata": {},
     "output_type": "execute_result"
    }
   ],
   "source": [
    "x.values()"
   ]
  },
  {
   "cell_type": "code",
   "execution_count": 40,
   "metadata": {},
   "outputs": [
    {
     "name": "stdout",
     "output_type": "stream",
     "text": [
      "a 10\n",
      "b 20\n",
      "c 30\n",
      "d 40\n"
     ]
    }
   ],
   "source": [
    "for key in x.keys():\n",
    "    print(key, x[key])"
   ]
  },
  {
   "cell_type": "markdown",
   "metadata": {},
   "source": [
    "### 리스트와 튜플로 딕셔너리 만들기"
   ]
  },
  {
   "cell_type": "code",
   "execution_count": 42,
   "metadata": {},
   "outputs": [
    {
     "data": {
      "text/plain": [
       "{'a': None, 'b': None, 'c': None, 'd': None}"
      ]
     },
     "execution_count": 42,
     "metadata": {},
     "output_type": "execute_result"
    }
   ],
   "source": [
    "keys = ['a', 'b', 'c', 'd']\n",
    "# 키 리스트로 딕셔너리 만들기(값은 모두 none으로 생성)\n",
    "x = dict.fromkeys(keys)\n",
    "x"
   ]
  },
  {
   "cell_type": "code",
   "execution_count": 43,
   "metadata": {},
   "outputs": [
    {
     "data": {
      "text/plain": [
       "{'a': 100, 'b': 100, 'c': 100, 'd': 100}"
      ]
     },
     "execution_count": 43,
     "metadata": {},
     "output_type": "execute_result"
    }
   ],
   "source": [
    "# 키 리스트로 딕셔너리 만들기(모두 값을 100으로생성)\n",
    "y = dict.fromkeys(keys, 100)\n",
    "y"
   ]
  },
  {
   "cell_type": "markdown",
   "metadata": {},
   "source": [
    "### 딕셔너리와 for 반복문 "
   ]
  },
  {
   "cell_type": "code",
   "execution_count": 44,
   "metadata": {},
   "outputs": [
    {
     "name": "stdout",
     "output_type": "stream",
     "text": [
      "a 10\n",
      "b 20\n",
      "c 30\n",
      "d 40\n"
     ]
    }
   ],
   "source": [
    "x = {'a': 10, 'b': 20, 'c': 30, 'd': 40}\n",
    "for key, value in x.items():\n",
    "    print(key, value)"
   ]
  },
  {
   "cell_type": "code",
   "execution_count": 45,
   "metadata": {},
   "outputs": [
    {
     "name": "stdout",
     "output_type": "stream",
     "text": [
      "a 10\n",
      "b 20\n",
      "c 30\n",
      "d 40\n"
     ]
    }
   ],
   "source": [
    "# 직접 딕셔너리를 사용해도 가능\n",
    "for key, value in {'a': 10, 'b': 20, 'c': 30, 'd': 40}.items():\n",
    "    print(key, value)"
   ]
  },
  {
   "cell_type": "code",
   "execution_count": 47,
   "metadata": {},
   "outputs": [
    {
     "name": "stdout",
     "output_type": "stream",
     "text": [
      "a 10\n",
      "b 20\n",
      "c 30\n",
      "d 40\n"
     ]
    }
   ],
   "source": [
    "for key in x.keys():\n",
    "    print(key, x.get(key))"
   ]
  },
  {
   "cell_type": "code",
   "execution_count": 48,
   "metadata": {},
   "outputs": [
    {
     "name": "stdout",
     "output_type": "stream",
     "text": [
      "10\n",
      "20\n",
      "30\n",
      "40\n"
     ]
    }
   ],
   "source": [
    "# 값만 출력\n",
    "for value in x.values():\n",
    "    print(value)"
   ]
  },
  {
   "cell_type": "markdown",
   "metadata": {},
   "source": [
    "### 딕셔너리 표현식"
   ]
  },
  {
   "cell_type": "code",
   "execution_count": 53,
   "metadata": {},
   "outputs": [
    {
     "data": {
      "text/plain": [
       "{'a': 100, 'b': 100, 'c': 100, 'd': 100}"
      ]
     },
     "execution_count": 53,
     "metadata": {},
     "output_type": "execute_result"
    }
   ],
   "source": [
    "keys = ['a', 'b', 'c', 'd']\n",
    "# dict.fromkeys(키 리스트,기본 값 없으면 none)\n",
    "x = {key: value for key, value in dict.fromkeys(keys,100).items()}\n",
    "x"
   ]
  },
  {
   "cell_type": "code",
   "execution_count": 55,
   "metadata": {},
   "outputs": [
    {
     "data": {
      "text/plain": [
       "{'a': 0, 'b': 0, 'c': 0, 'd': 0}"
      ]
     },
     "execution_count": 55,
     "metadata": {},
     "output_type": "execute_result"
    }
   ],
   "source": [
    "{key: 0 for key in dict.fromkeys(['a', 'b', 'c', 'd']).keys()}"
   ]
  },
  {
   "cell_type": "code",
   "execution_count": 60,
   "metadata": {},
   "outputs": [
    {
     "data": {
      "text/plain": [
       "{10: 0, 20: 0, 30: 0, 40: 0}"
      ]
     },
     "execution_count": 60,
     "metadata": {},
     "output_type": "execute_result"
    }
   ],
   "source": [
    "{value: 0 for value in {'a': 10, 'b': 20, 'c': 30, 'd': 40}.values()} "
   ]
  },
  {
   "cell_type": "code",
   "execution_count": 61,
   "metadata": {},
   "outputs": [
    {
     "data": {
      "text/plain": [
       "{10: 'a', 20: 'b', 30: 'c', 40: 'd'}"
      ]
     },
     "execution_count": 61,
     "metadata": {},
     "output_type": "execute_result"
    }
   ],
   "source": [
    "#키와 값자리 바꾸기\n",
    "{value: key for key, value in {'a': 10, 'b': 20, 'c': 30, 'd': 40}.items()}"
   ]
  },
  {
   "cell_type": "code",
   "execution_count": 62,
   "metadata": {},
   "outputs": [
    {
     "name": "stdout",
     "output_type": "stream",
     "text": [
      "{'a': 10, 'b': 20, 'c': 30, 'd': 40}\n",
      "{'a': 10, 'c': 30, 'd': 40}\n"
     ]
    },
    {
     "ename": "RuntimeError",
     "evalue": "dictionary changed size during iteration",
     "output_type": "error",
     "traceback": [
      "\u001b[1;31m---------------------------------------------------------------------------\u001b[0m",
      "\u001b[1;31mRuntimeError\u001b[0m                              Traceback (most recent call last)",
      "\u001b[1;32m<ipython-input-62-2fe87357e49d>\u001b[0m in \u001b[0;36m<module>\u001b[1;34m\u001b[0m\n\u001b[0;32m      1\u001b[0m \u001b[0mx\u001b[0m \u001b[1;33m=\u001b[0m \u001b[1;33m{\u001b[0m\u001b[1;34m'a'\u001b[0m\u001b[1;33m:\u001b[0m \u001b[1;36m10\u001b[0m\u001b[1;33m,\u001b[0m \u001b[1;34m'b'\u001b[0m\u001b[1;33m:\u001b[0m \u001b[1;36m20\u001b[0m\u001b[1;33m,\u001b[0m \u001b[1;34m'c'\u001b[0m\u001b[1;33m:\u001b[0m \u001b[1;36m30\u001b[0m\u001b[1;33m,\u001b[0m \u001b[1;34m'd'\u001b[0m\u001b[1;33m:\u001b[0m \u001b[1;36m40\u001b[0m\u001b[1;33m}\u001b[0m\u001b[1;33m\u001b[0m\u001b[1;33m\u001b[0m\u001b[0m\n\u001b[0;32m      2\u001b[0m \u001b[1;33m\u001b[0m\u001b[0m\n\u001b[1;32m----> 3\u001b[1;33m \u001b[1;32mfor\u001b[0m \u001b[0mkey\u001b[0m\u001b[1;33m,\u001b[0m \u001b[0mvalue\u001b[0m \u001b[1;32min\u001b[0m \u001b[0mx\u001b[0m\u001b[1;33m.\u001b[0m\u001b[0mitems\u001b[0m\u001b[1;33m(\u001b[0m\u001b[1;33m)\u001b[0m\u001b[1;33m:\u001b[0m\u001b[1;33m\u001b[0m\u001b[1;33m\u001b[0m\u001b[0m\n\u001b[0m\u001b[0;32m      4\u001b[0m     \u001b[1;32mif\u001b[0m \u001b[0mvalue\u001b[0m \u001b[1;33m==\u001b[0m \u001b[1;36m20\u001b[0m\u001b[1;33m:\u001b[0m    \u001b[1;31m# 값이 20이면\u001b[0m\u001b[1;33m\u001b[0m\u001b[1;33m\u001b[0m\u001b[0m\n\u001b[0;32m      5\u001b[0m         \u001b[1;32mdel\u001b[0m \u001b[0mx\u001b[0m\u001b[1;33m[\u001b[0m\u001b[0mkey\u001b[0m\u001b[1;33m]\u001b[0m     \u001b[1;31m# 키-값 쌍 삭제\u001b[0m\u001b[1;33m\u001b[0m\u001b[1;33m\u001b[0m\u001b[0m\n",
      "\u001b[1;31mRuntimeError\u001b[0m: dictionary changed size during iteration"
     ]
    }
   ],
   "source": [
    "x = {'a': 10, 'b': 20, 'c': 30, 'd': 40}\n",
    " \n",
    "for key, value in x.items():\n",
    "    if value == 20:    # 값이 20이면\n",
    "        del x[key]     # 키-값 쌍 삭제\n",
    " \n",
    "x"
   ]
  },
  {
   "cell_type": "code",
   "execution_count": 65,
   "metadata": {},
   "outputs": [
    {
     "data": {
      "text/plain": [
       "{'a': 10, 'c': 30, 'd': 40}"
      ]
     },
     "execution_count": 65,
     "metadata": {},
     "output_type": "execute_result"
    }
   ],
   "source": [
    "#필터링\n",
    "x = {'a': 10, 'b': 20, 'c': 30, 'd': 40}\n",
    "x = {key: value for key, value in x.items() \n",
    "     if value != 20}\n",
    "x"
   ]
  },
  {
   "cell_type": "code",
   "execution_count": 71,
   "metadata": {},
   "outputs": [
    {
     "data": {
      "text/plain": [
       "{'c': 30, 'd': 40}"
      ]
     },
     "execution_count": 71,
     "metadata": {},
     "output_type": "execute_result"
    }
   ],
   "source": [
    "x = {'a': 10, 'b': 20, 'c': 30, 'd': 40}\n",
    "x = {key: value for key, value in x.items() \n",
    "     if value > 20}\n",
    "x"
   ]
  },
  {
   "cell_type": "code",
   "execution_count": 72,
   "metadata": {},
   "outputs": [
    {
     "name": "stdout",
     "output_type": "stream",
     "text": [
      "6051.8\n"
     ]
    }
   ],
   "source": [
    "terrestrial_planet = {\n",
    "    'Mercury': {\n",
    "        'mean_radius': 2439.7,\n",
    "        'mass': 3.3022E+23,\n",
    "        'orbital_period': 87.969\n",
    "    },\n",
    "    'Venus': {\n",
    "        'mean_radius': 6051.8,\n",
    "        'mass': 4.8676E+24,\n",
    "        'orbital_period': 224.70069,\n",
    "    },\n",
    "    'Earth': {\n",
    "        'mean_radius': 6371.0,\n",
    "        'mass': 5.97219E+24,\n",
    "        'orbital_period': 365.25641,\n",
    "    },\n",
    "    'Mars': {\n",
    "        'mean_radius': 3389.5,\n",
    "        'mass': 6.4185E+23,\n",
    "        'orbital_period': 686.9600,\n",
    "    }\n",
    "}\n",
    " \n",
    "print(terrestrial_planet['Venus']['mean_radius'])"
   ]
  },
  {
   "cell_type": "code",
   "execution_count": 96,
   "metadata": {},
   "outputs": [
    {
     "name": "stdout",
     "output_type": "stream",
     "text": [
      "Mercury\n",
      "\tmean_radius:\t2439.7\n",
      "\tmass:\t3.3022e+23\n",
      "\torbital_period:\t87.969\n",
      "Venus\n",
      "\tmean_radius:\t6051.8\n",
      "\tmass:\t4.8676e+24\n",
      "\torbital_period:\t224.70069\n",
      "Earth\n",
      "\tmean_radius:\t6371.0\n",
      "\tmass:\t5.97219e+24\n",
      "\torbital_period:\t365.25641\n",
      "Mars\n",
      "\tmean_radius:\t3389.5\n",
      "\tmass:\t6.4185e+23\n",
      "\torbital_period:\t686.96\n"
     ]
    }
   ],
   "source": [
    "for outer_key, outer_value in terrestrial_planet.items():\n",
    "    print(outer_key)\n",
    "    for inner_key, inner_value in outer_value.items():\n",
    "        print('\\t', inner_key, ':\\t' ,inner_value, sep='')"
   ]
  },
  {
   "cell_type": "markdown",
   "metadata": {},
   "source": [
    "### 딕셔너리의 할당과 복사 \n"
   ]
  },
  {
   "cell_type": "code",
   "execution_count": 82,
   "metadata": {},
   "outputs": [
    {
     "data": {
      "text/plain": [
       "{'a': 0, 'b': 0, 'c': 0, 'd': 90}"
      ]
     },
     "execution_count": 82,
     "metadata": {},
     "output_type": "execute_result"
    }
   ],
   "source": [
    "x = {'a': 0, 'b': 0, 'c': 0, 'd': 0}\n",
    "y = x\n",
    "y['d'] =90\n",
    "x"
   ]
  },
  {
   "cell_type": "code",
   "execution_count": 83,
   "metadata": {},
   "outputs": [
    {
     "data": {
      "text/plain": [
       "True"
      ]
     },
     "execution_count": 83,
     "metadata": {},
     "output_type": "execute_result"
    }
   ],
   "source": [
    "x is y"
   ]
  },
  {
   "cell_type": "code",
   "execution_count": 87,
   "metadata": {},
   "outputs": [
    {
     "data": {
      "text/plain": [
       "{'a': 0, 'b': 0, 'c': 0, 'd': 0}"
      ]
     },
     "execution_count": 87,
     "metadata": {},
     "output_type": "execute_result"
    }
   ],
   "source": [
    "x = {'a': 0, 'b': 0, 'c': 0, 'd': 0}\n",
    "y = x.copy()\n",
    "y['d'] = 90\n",
    "x"
   ]
  },
  {
   "cell_type": "code",
   "execution_count": 88,
   "metadata": {},
   "outputs": [
    {
     "data": {
      "text/plain": [
       "{'a': {'python': '2.7'}, 'b': {'python': '3.6'}}"
      ]
     },
     "execution_count": 88,
     "metadata": {},
     "output_type": "execute_result"
    }
   ],
   "source": [
    "x = {'a': {'python': '2.7'}, 'b': {'python': '3.6'}}\n",
    "import copy\n",
    "y = copy.deepcopy(x)\n",
    "y['a']['python'] = '2.7.15'\n",
    "x"
   ]
  },
  {
   "cell_type": "code",
   "execution_count": 89,
   "metadata": {},
   "outputs": [
    {
     "data": {
      "text/plain": [
       "{'a': {'python': '2.7.15'}, 'b': {'python': '3.6'}}"
      ]
     },
     "execution_count": 89,
     "metadata": {},
     "output_type": "execute_result"
    }
   ],
   "source": [
    "y"
   ]
  },
  {
   "cell_type": "code",
   "execution_count": 90,
   "metadata": {},
   "outputs": [],
   "source": [
    " x = {'a': {'python': '2.7'}, 'b': {'python': '3.6'}}"
   ]
  },
  {
   "cell_type": "code",
   "execution_count": 91,
   "metadata": {},
   "outputs": [],
   "source": [
    "y = x.copy()"
   ]
  },
  {
   "cell_type": "code",
   "execution_count": 92,
   "metadata": {},
   "outputs": [
    {
     "data": {
      "text/plain": [
       "({'a': {'python': '2.7'}, 'b': {'python': '3.6'}},\n",
       " {'a': {'python': '2.7'}, 'b': {'python': '3.6'}})"
      ]
     },
     "execution_count": 92,
     "metadata": {},
     "output_type": "execute_result"
    }
   ],
   "source": [
    "x,y"
   ]
  },
  {
   "cell_type": "code",
   "execution_count": 93,
   "metadata": {},
   "outputs": [],
   "source": [
    "y['a']['python'] = '2.7.15'"
   ]
  },
  {
   "cell_type": "code",
   "execution_count": 94,
   "metadata": {},
   "outputs": [
    {
     "data": {
      "text/plain": [
       "{'a': {'python': '2.7.15'}, 'b': {'python': '3.6'}}"
      ]
     },
     "execution_count": 94,
     "metadata": {},
     "output_type": "execute_result"
    }
   ],
   "source": [
    "y"
   ]
  },
  {
   "cell_type": "code",
   "execution_count": 95,
   "metadata": {},
   "outputs": [
    {
     "data": {
      "text/plain": [
       "{'a': {'python': '2.7.15'}, 'b': {'python': '3.6'}}"
      ]
     },
     "execution_count": 95,
     "metadata": {},
     "output_type": "execute_result"
    }
   ],
   "source": [
    "x"
   ]
  },
  {
   "cell_type": "code",
   "execution_count": 13,
   "metadata": {},
   "outputs": [],
   "source": [
    "lorem ='''\n",
    "Lorem ipsum dolor sit amet, consectetur adipiscing elit. Aliquam sit amet volutpat turpis. Aenean semper ipsum id sapien aliquam, ac facilisis risus semper. Maecenas vel felis vehicula, ornare leo id, euismod lorem. Suspendisse vulputate sodales ultricies. Ut lectus eros, tincidunt quis felis in, porta blandit lacus. Praesent nec velit arcu. Sed luctus iaculis est, in varius metus blandit non. Integer vitae fermentum massa. Nunc lacinia interdum condimentum.\n",
    "\n",
    "Nulla dignissim, ex eget ultrices pretium, neque leo placerat erat, vitae aliquam urna augue vel ipsum. Maecenas massa nisl, aliquet et orci sed, volutpat dictum metus. Phasellus eu lorem sodales, luctus enim sed, fringilla neque. Nam efficitur, quam non pulvinar mollis, libero ex aliquet ante, eget vehicula libero lectus vel arcu. Proin at tortor cursus, mollis justo eget, facilisis eros. Integer facilisis eget tellus at malesuada. Nam venenatis, libero vitae interdum scelerisque, enim ipsum euismod erat, eu eleifend leo risus vel enim. Curabitur pretium tortor at turpis vestibulum aliquam. Vestibulum pellentesque scelerisque congue. Aenean vel consequat erat. Pellentesque volutpat eros massa, id ullamcorper neque consequat eu.\n",
    "\n",
    "Vivamus blandit pretium elit quis volutpat. Nam sit amet lectus augue. Vestibulum cursus mauris neque, sed sodales neque tempor quis. Curabitur auctor, ex eget eleifend sodales, lectus erat feugiat quam, id placerat ipsum nisl pellentesque orci. Morbi vel quam nec massa accumsan imperdiet sed et lorem. Aliquam magna eros, auctor sed vulputate quis, ornare in orci. Ut magna erat, efficitur at venenatis tristique, semper at magna. Cras in lorem urna. Proin condimentum dui vitae eleifend sodales. Donec ante nulla, dignissim sit amet semper vel, malesuada nec quam. Quisque a ex et risus feugiat tincidunt at vitae dolor. Interdum et malesuada fames ac ante ipsum primis in faucibus. Sed sit amet scelerisque arcu. Integer dapibus est ac nulla luctus, in iaculis neque tempor. Maecenas enim metus, dictum at posuere at, lacinia commodo ipsum. Vivamus iaculis ultrices elit vel faucibus.\n",
    "\n",
    "Fusce in ligula non nunc interdum placerat. Mauris quis convallis elit. Nunc eu ipsum tellus. Proin posuere dictum velit, vitae pharetra magna bibendum nec. Nulla facilisi. Sed finibus elementum quam, et blandit turpis posuere sit amet. In interdum mi sapien, id dignissim leo pulvinar a. Nam faucibus odio nec nibh aliquet feugiat. Quisque tellus nunc, pellentesque sed commodo vel, molestie eget tortor. Donec id lorem lacinia, vulputate ex sed, aliquam erat. Ut et justo tincidunt, elementum sapien non, porta quam. Phasellus posuere massa at vulputate mollis. Cras sollicitudin augue dapibus leo molestie tristique. Sed at tempus erat.\n",
    "\n",
    "Pellentesque mattis ac metus vel convallis. Donec efficitur ipsum quis dui tristique posuere. Pellentesque in est eu diam tempus consectetur nec sit amet turpis. Sed dapibus sit amet purus et tempor. Ut eget metus vitae risus auctor bibendum ut quis dolor. Nam vitae tempor arcu. Vestibulum at nibh nec felis dignissim molestie. Curabitur nec molestie sem. Sed finibus interdum purus, quis pellentesque justo volutpat ullamcorper. Vestibulum venenatis ex in nisi efficitur, eu sagittis elit tristique. Morbi aliquam magna id quam commodo iaculis. Nunc elementum nibh leo, lacinia fringilla purus commodo in. In at dui ex.\n",
    "\n",
    "Morbi maximus turpis eget diam egestas scelerisque. Morbi quis feugiat nulla, ac ornare orci. Sed aliquet sapien non turpis malesuada, in convallis ipsum scelerisque. Mauris nec eleifend orci, lacinia dapibus nunc. Proin porttitor lacus augue, at feugiat eros efficitur scelerisque. Suspendisse euismod orci cursus tempor condimentum. Nunc ac commodo felis. Curabitur vehicula facilisis dolor sed suscipit. Fusce iaculis semper sagittis. Proin aliquet, lectus at condimentum imperdiet, erat quam condimentum sem, fringilla varius turpis augue nec purus. Donec vitae blandit leo. Cras non tellus lobortis, fermentum magna non, lobortis erat. Proin non dui luctus odio finibus finibus. Nunc interdum feugiat metus. Pellentesque venenatis ligula ut aliquet auctor. Cras vel sollicitudin dolor, eu consectetur massa.\n",
    "\n",
    "Nullam auctor lectus eget urna tempor tincidunt. In tristique nulla vitae imperdiet dapibus. Nam ligula nisl, laoreet sed ipsum eu, blandit tempus lectus. Praesent consequat purus aliquet consequat hendrerit. Donec ante ante, pellentesque vitae mi vel, tincidunt aliquet urna. Morbi arcu ex, posuere et feugiat sed, pretium vulputate urna. Etiam euismod velit sed ante blandit consectetur. Proin vitae ex et erat vestibulum placerat. Nam nec congue erat. Fusce at turpis diam. Morbi semper metus eu dolor maximus tristique. Etiam dictum sollicitudin feugiat. Praesent mollis id dolor quis gravida. Mauris imperdiet nisl sit amet risus euismod, a lacinia nulla egestas. Maecenas pulvinar, tellus a posuere blandit, erat justo volutpat ante, eget vestibulum lacus nulla a mi. Phasellus pulvinar malesuada nisl, at commodo orci auctor non.\n",
    "\n",
    "Fusce sagittis neque tortor, vitae sollicitudin augue sagittis ac. Aliquam efficitur, diam in molestie tincidunt, ex lorem mollis nisi, eget porttitor nunc lacus vitae tortor. Vivamus tincidunt, lorem sit amet egestas dictum, nibh dui dapibus nisi, at viverra nulla nisi sed sem. Nunc eu mauris laoreet, ullamcorper nulla a, finibus mi. In egestas condimentum sem in aliquam. Donec ornare turpis vitae suscipit posuere. Duis consectetur ex ut libero tempus, in mattis mi fringilla. Phasellus ac euismod sapien.\n",
    "\n",
    "Curabitur sed mauris erat. Aenean rutrum vitae est id posuere. Donec efficitur elementum tortor, vel condimentum nulla finibus consectetur. Praesent augue purus, mollis mollis nisl id, gravida placerat neque. Lorem ipsum dolor sit amet, consectetur adipiscing elit. Praesent eget dignissim mauris. Donec vehicula lorem non ex venenatis, at fringilla arcu dignissim. Praesent lacinia ante eget augue congue venenatis. Praesent et tellus eleifend lectus finibus feugiat. Sed cursus velit eget ante scelerisque, vel ornare neque sodales.\n",
    "\n",
    "Mauris consectetur orci diam, vel mattis neque porttitor sed. Phasellus elementum libero ac ultricies viverra. Vivamus eu elit et turpis semper aliquam. Nam rhoncus vel sapien non vulputate. Proin viverra facilisis erat non pulvinar. Phasellus convallis porta lacus, ac congue risus. Maecenas ut felis erat. Nam nec nisi at orci ultricies elementum sagittis sit amet nunc. Praesent accumsan ut arcu ac auctor. Nulla in lorem sem. Sed non arcu mollis ex scelerisque consequat vitae a ipsum.\n",
    "\n",
    "In id sollicitudin nulla, sed mollis risus. Pellentesque sollicitudin massa lectus. Maecenas ornare, sem tincidunt convallis faucibus, elit risus consequat odio, eu porttitor lacus ipsum a diam. Nunc porttitor lacus et tortor egestas lobortis. Vivamus nisl augue, condimentum at sodales at, porta ac dui. In hac habitasse platea dictumst. Mauris eu pellentesque justo. Nulla quis diam nulla. Suspendisse rutrum iaculis nunc ut ullamcorper. Mauris non dui finibus, fermentum ex at, gravida neque. Duis quis purus at erat feugiat volutpat. Nulla tempus tincidunt nibh vitae viverra. Nulla dui ipsum, accumsan ac eleifend sit amet, rutrum nec felis. Mauris ullamcorper enim posuere, ullamcorper nibh nec, egestas lectus.\n",
    "\n",
    "Integer fermentum ornare aliquam. Etiam consequat sapien at justo porttitor, vel dictum justo ornare. Duis pharetra ipsum feugiat urna elementum condimentum. Mauris sollicitudin pharetra ex vel consequat. Etiam rhoncus bibendum ipsum consequat posuere. Mauris ac risus vel arcu pretium efficitur ut in est. Aliquam vel magna sit amet velit mattis convallis in non est. Ut facilisis lacinia auctor. Nunc iaculis, lectus et scelerisque maximus, sapien diam dictum dui, quis vehicula mauris justo a metus.\n",
    "\n",
    "Curabitur laoreet ipsum risus, quis laoreet elit sagittis eu. Sed vehicula velit magna, ac placerat ligula egestas eu. Aenean vitae fringilla ipsum. Nam ipsum nisl, gravida vitae ornare ac, molestie quis metus. Nunc erat odio, malesuada a tellus sed, maximus volutpat metus. Mauris a pretium tortor, consequat eleifend turpis. Sed vehicula mauris ultrices, aliquet metus in, tincidunt enim.\n",
    "\n",
    "Orci varius natoque penatibus et magnis dis parturient montes, nascetur ridiculus mus. Nulla malesuada sit amet velit nec rutrum. Vivamus suscipit velit eu risus tincidunt, nec faucibus velit finibus. Phasellus mattis faucibus sem et placerat. Nullam euismod massa diam, ac pretium eros mollis ornare. Nullam suscipit ex eu est facilisis tristique. Aenean egestas, sapien vel faucibus ornare, dui nibh viverra est, id dictum turpis lectus ut nisi.\n",
    "\n",
    "Phasellus porta, dui ac tincidunt feugiat, mauris velit semper felis, quis hendrerit felis arcu non lectus. Nulla sapien leo, placerat vel sollicitudin at, scelerisque sit amet purus. Nulla ullamcorper, quam vel congue maximus, metus nisl rutrum neque, dictum hendrerit nibh sapien a magna. Maecenas feugiat tellus sapien, ut ultricies diam lobortis ullamcorper. Lorem ipsum dolor sit amet, consectetur adipiscing elit. Aenean et nibh quis dui interdum imperdiet vel sit amet mi. In vestibulum, augue id finibus vehicula, velit felis scelerisque lorem, at condimentum nibh sem in eros. Sed consequat finibus ligula in faucibus. Nunc porta convallis ligula, venenatis lobortis mi facilisis vitae. Nulla auctor vestibulum consequat. Vestibulum ex tortor, feugiat at nisi vitae, interdum placerat mi.\n",
    "\n",
    "Maecenas vitae augue interdum, pharetra arcu quis, tempor leo. In et tortor eget tellus rhoncus lacinia. Maecenas ornare suscipit dolor, ac luctus libero luctus elementum. Fusce pretium sapien ut tellus vestibulum, quis porttitor justo interdum. Nunc eu magna tincidunt orci efficitur euismod vel sit amet massa. Proin suscipit enim sed ex molestie, gravida ornare enim feugiat. Praesent commodo, nibh non ullamcorper gravida, est lorem mattis ipsum, et laoreet sem risus vitae ligula. Donec neque est, varius at accumsan et, vehicula id enim. Cras porttitor tristique tortor, quis porta turpis condimentum quis. Morbi quis interdum ipsum. Sed ultrices augue sit amet leo rhoncus mollis.\n",
    "\n",
    "Donec aliquam nunc aliquam finibus luctus. Suspendisse euismod magna vel augue pretium elementum. Vivamus purus augue, tempus sed euismod at, hendrerit id lorem. Vestibulum ante ipsum primis in faucibus orci luctus et ultrices posuere cubilia curae; Donec leo quam, rutrum id enim at, euismod maximus nisi. Proin tincidunt et massa porta fringilla. Vivamus at blandit urna, et dapibus est. Proin semper leo nunc, ut ornare orci porta egestas. Sed efficitur lacinia sem, at porta nisi accumsan nec. Morbi et metus commodo, ultricies nibh nec, elementum lorem. Etiam vestibulum ultricies felis vitae maximus. Proin bibendum feugiat condimentum. Maecenas venenatis hendrerit massa eget sodales. Quisque vitae lorem lorem. Quisque maximus euismod enim in laoreet. Maecenas orci diam, tristique eu felis ac, facilisis imperdiet ante.\n",
    "\n",
    "Curabitur aliquam, nibh sit amet posuere interdum, diam tellus imperdiet erat, sed ornare nisl nisl a ligula. Etiam nec varius dui. In ex lorem, lacinia et congue eu, consectetur ac justo. Suspendisse sed leo vitae nunc viverra mollis. Sed ut accumsan enim, ut volutpat quam. Nulla facilisi. Etiam turpis dui, molestie non nisl sed, feugiat suscipit libero. Nam luctus porttitor est, non dictum ligula suscipit eget. Lorem ipsum dolor sit amet, consectetur adipiscing elit. Aliquam eget dolor maximus, hendrerit quam ut, vehicula diam. Morbi sed scelerisque tellus. Sed iaculis posuere elit, eu ullamcorper augue ultricies eget. Ut et elit sit amet ante ullamcorper molestie in in velit. Sed ipsum nisi, fermentum at tempor in, placerat vitae orci.\n",
    "\n",
    "Fusce ut felis mollis, scelerisque diam id, finibus quam. Sed velit dui, fringilla vel nisi accumsan, vehicula ornare lectus. Quisque lorem tellus, faucibus sit amet dolor nec, luctus tristique mi. Cras fringilla, magna commodo maximus varius, ex dolor gravida massa, ac porttitor mauris enim et enim. Duis sed eros eu lacus faucibus ornare at et velit. Sed sodales libero quis sodales congue. Donec et lacus eros. Donec lobortis risus non urna cursus auctor. Ut in risus ipsum. Aenean sed ultrices quam. Morbi vel lectus nisl.\n",
    "\n",
    "Morbi quis vulputate lorem. Mauris faucibus consequat gravida. Pellentesque at nisi vestibulum, hendrerit ex a, cursus elit. Suspendisse in condimentum ligula. Praesent mollis, tellus eget ullamcorper maximus, lectus libero pulvinar libero, ut congue lectus nisl nec ante. Mauris aliquam nec tortor in sagittis. Vivamus hendrerit euismod consequat.\n",
    "\n",
    "Generated 20 paragraphs, 1862 words, 12520 bytes of Lorem Ipsum\n",
    "'''"
   ]
  },
  {
   "cell_type": "code",
   "execution_count": 14,
   "metadata": {},
   "outputs": [
    {
     "name": "stdout",
     "output_type": "stream",
     "text": [
      "\n",
      "Lorem ipsum dolor sit amet consectetur adipiscing elit Aliquam sit amet volutpat turpis Aenean semper ipsum id sapien aliquam ac facilisis risus semper Maecenas vel felis vehicula ornare leo id euismod lorem Suspendisse vulputate sodales ultricies Ut lectus eros tincidunt quis felis in porta blandit lacus Praesent nec velit arcu Sed luctus iaculis est in varius metus blandit non Integer vitae fermentum massa Nunc lacinia interdum condimentum\n",
      "\n",
      "Nulla dignissim ex eget ultrices pretium neque leo placerat erat vitae aliquam urna augue vel ipsum Maecenas massa nisl aliquet et orci sed volutpat dictum metus Phasellus eu lorem sodales luctus enim sed fringilla neque Nam efficitur quam non pulvinar mollis libero ex aliquet ante eget vehicula libero lectus vel arcu Proin at tortor cursus mollis justo eget facilisis eros Integer facilisis eget tellus at malesuada Nam venenatis libero vitae interdum scelerisque enim ipsum euismod erat eu eleifend leo risus vel enim Curabitur pretium tortor at turpis vestibulum aliquam Vestibulum pellentesque scelerisque congue Aenean vel consequat erat Pellentesque volutpat eros massa id ullamcorper neque consequat eu\n",
      "\n",
      "Vivamus blandit pretium elit quis volutpat Nam sit amet lectus augue Vestibulum cursus mauris neque sed sodales neque tempor quis Curabitur auctor ex eget eleifend sodales lectus erat feugiat quam id placerat ipsum nisl pellentesque orci Morbi vel quam nec massa accumsan imperdiet sed et lorem Aliquam magna eros auctor sed vulputate quis ornare in orci Ut magna erat efficitur at venenatis tristique semper at magna Cras in lorem urna Proin condimentum dui vitae eleifend sodales Donec ante nulla dignissim sit amet semper vel malesuada nec quam Quisque a ex et risus feugiat tincidunt at vitae dolor Interdum et malesuada fames ac ante ipsum primis in faucibus Sed sit amet scelerisque arcu Integer dapibus est ac nulla luctus in iaculis neque tempor Maecenas enim metus dictum at posuere at lacinia commodo ipsum Vivamus iaculis ultrices elit vel faucibus\n",
      "\n",
      "Fusce in ligula non nunc interdum placerat Mauris quis convallis elit Nunc eu ipsum tellus Proin posuere dictum velit vitae pharetra magna bibendum nec Nulla facilisi Sed finibus elementum quam et blandit turpis posuere sit amet In interdum mi sapien id dignissim leo pulvinar a Nam faucibus odio nec nibh aliquet feugiat Quisque tellus nunc pellentesque sed commodo vel molestie eget tortor Donec id lorem lacinia vulputate ex sed aliquam erat Ut et justo tincidunt elementum sapien non porta quam Phasellus posuere massa at vulputate mollis Cras sollicitudin augue dapibus leo molestie tristique Sed at tempus erat\n",
      "\n",
      "Pellentesque mattis ac metus vel convallis Donec efficitur ipsum quis dui tristique posuere Pellentesque in est eu diam tempus consectetur nec sit amet turpis Sed dapibus sit amet purus et tempor Ut eget metus vitae risus auctor bibendum ut quis dolor Nam vitae tempor arcu Vestibulum at nibh nec felis dignissim molestie Curabitur nec molestie sem Sed finibus interdum purus quis pellentesque justo volutpat ullamcorper Vestibulum venenatis ex in nisi efficitur eu sagittis elit tristique Morbi aliquam magna id quam commodo iaculis Nunc elementum nibh leo lacinia fringilla purus commodo in In at dui ex\n",
      "\n",
      "Morbi maximus turpis eget diam egestas scelerisque Morbi quis feugiat nulla ac ornare orci Sed aliquet sapien non turpis malesuada in convallis ipsum scelerisque Mauris nec eleifend orci lacinia dapibus nunc Proin porttitor lacus augue at feugiat eros efficitur scelerisque Suspendisse euismod orci cursus tempor condimentum Nunc ac commodo felis Curabitur vehicula facilisis dolor sed suscipit Fusce iaculis semper sagittis Proin aliquet lectus at condimentum imperdiet erat quam condimentum sem fringilla varius turpis augue nec purus Donec vitae blandit leo Cras non tellus lobortis fermentum magna non lobortis erat Proin non dui luctus odio finibus finibus Nunc interdum feugiat metus Pellentesque venenatis ligula ut aliquet auctor Cras vel sollicitudin dolor eu consectetur massa\n",
      "\n",
      "Nullam auctor lectus eget urna tempor tincidunt In tristique nulla vitae imperdiet dapibus Nam ligula nisl laoreet sed ipsum eu blandit tempus lectus Praesent consequat purus aliquet consequat hendrerit Donec ante ante pellentesque vitae mi vel tincidunt aliquet urna Morbi arcu ex posuere et feugiat sed pretium vulputate urna Etiam euismod velit sed ante blandit consectetur Proin vitae ex et erat vestibulum placerat Nam nec congue erat Fusce at turpis diam Morbi semper metus eu dolor maximus tristique Etiam dictum sollicitudin feugiat Praesent mollis id dolor quis gravida Mauris imperdiet nisl sit amet risus euismod a lacinia nulla egestas Maecenas pulvinar tellus a posuere blandit erat justo volutpat ante eget vestibulum lacus nulla a mi Phasellus pulvinar malesuada nisl at commodo orci auctor non\n",
      "\n",
      "Fusce sagittis neque tortor vitae sollicitudin augue sagittis ac Aliquam efficitur diam in molestie tincidunt ex lorem mollis nisi eget porttitor nunc lacus vitae tortor Vivamus tincidunt lorem sit amet egestas dictum nibh dui dapibus nisi at viverra nulla nisi sed sem Nunc eu mauris laoreet ullamcorper nulla a finibus mi In egestas condimentum sem in aliquam Donec ornare turpis vitae suscipit posuere Duis consectetur ex ut libero tempus in mattis mi fringilla Phasellus ac euismod sapien\n",
      "\n",
      "Curabitur sed mauris erat Aenean rutrum vitae est id posuere Donec efficitur elementum tortor vel condimentum nulla finibus consectetur Praesent augue purus mollis mollis nisl id gravida placerat neque Lorem ipsum dolor sit amet consectetur adipiscing elit Praesent eget dignissim mauris Donec vehicula lorem non ex venenatis at fringilla arcu dignissim Praesent lacinia ante eget augue congue venenatis Praesent et tellus eleifend lectus finibus feugiat Sed cursus velit eget ante scelerisque vel ornare neque sodales\n",
      "\n",
      "Mauris consectetur orci diam vel mattis neque porttitor sed Phasellus elementum libero ac ultricies viverra Vivamus eu elit et turpis semper aliquam Nam rhoncus vel sapien non vulputate Proin viverra facilisis erat non pulvinar Phasellus convallis porta lacus ac congue risus Maecenas ut felis erat Nam nec nisi at orci ultricies elementum sagittis sit amet nunc Praesent accumsan ut arcu ac auctor Nulla in lorem sem Sed non arcu mollis ex scelerisque consequat vitae a ipsum\n",
      "\n",
      "In id sollicitudin nulla sed mollis risus Pellentesque sollicitudin massa lectus Maecenas ornare sem tincidunt convallis faucibus elit risus consequat odio eu porttitor lacus ipsum a diam Nunc porttitor lacus et tortor egestas lobortis Vivamus nisl augue condimentum at sodales at porta ac dui In hac habitasse platea dictumst Mauris eu pellentesque justo Nulla quis diam nulla Suspendisse rutrum iaculis nunc ut ullamcorper Mauris non dui finibus fermentum ex at gravida neque Duis quis purus at erat feugiat volutpat Nulla tempus tincidunt nibh vitae viverra Nulla dui ipsum accumsan ac eleifend sit amet rutrum nec felis Mauris ullamcorper enim posuere ullamcorper nibh nec egestas lectus\n",
      "\n",
      "Integer fermentum ornare aliquam Etiam consequat sapien at justo porttitor vel dictum justo ornare Duis pharetra ipsum feugiat urna elementum condimentum Mauris sollicitudin pharetra ex vel consequat Etiam rhoncus bibendum ipsum consequat posuere Mauris ac risus vel arcu pretium efficitur ut in est Aliquam vel magna sit amet velit mattis convallis in non est Ut facilisis lacinia auctor Nunc iaculis lectus et scelerisque maximus sapien diam dictum dui quis vehicula mauris justo a metus\n",
      "\n",
      "Curabitur laoreet ipsum risus quis laoreet elit sagittis eu Sed vehicula velit magna ac placerat ligula egestas eu Aenean vitae fringilla ipsum Nam ipsum nisl gravida vitae ornare ac molestie quis metus Nunc erat odio malesuada a tellus sed maximus volutpat metus Mauris a pretium tortor consequat eleifend turpis Sed vehicula mauris ultrices aliquet metus in tincidunt enim\n",
      "\n",
      "Orci varius natoque penatibus et magnis dis parturient montes nascetur ridiculus mus Nulla malesuada sit amet velit nec rutrum Vivamus suscipit velit eu risus tincidunt nec faucibus velit finibus Phasellus mattis faucibus sem et placerat Nullam euismod massa diam ac pretium eros mollis ornare Nullam suscipit ex eu est facilisis tristique Aenean egestas sapien vel faucibus ornare dui nibh viverra est id dictum turpis lectus ut nisi\n",
      "\n",
      "Phasellus porta dui ac tincidunt feugiat mauris velit semper felis quis hendrerit felis arcu non lectus Nulla sapien leo placerat vel sollicitudin at scelerisque sit amet purus Nulla ullamcorper quam vel congue maximus metus nisl rutrum neque dictum hendrerit nibh sapien a magna Maecenas feugiat tellus sapien ut ultricies diam lobortis ullamcorper Lorem ipsum dolor sit amet consectetur adipiscing elit Aenean et nibh quis dui interdum imperdiet vel sit amet mi In vestibulum augue id finibus vehicula velit felis scelerisque lorem at condimentum nibh sem in eros Sed consequat finibus ligula in faucibus Nunc porta convallis ligula venenatis lobortis mi facilisis vitae Nulla auctor vestibulum consequat Vestibulum ex tortor feugiat at nisi vitae interdum placerat mi\n",
      "\n",
      "Maecenas vitae augue interdum pharetra arcu quis tempor leo In et tortor eget tellus rhoncus lacinia Maecenas ornare suscipit dolor ac luctus libero luctus elementum Fusce pretium sapien ut tellus vestibulum quis porttitor justo interdum Nunc eu magna tincidunt orci efficitur euismod vel sit amet massa Proin suscipit enim sed ex molestie gravida ornare enim feugiat Praesent commodo nibh non ullamcorper gravida est lorem mattis ipsum et laoreet sem risus vitae ligula Donec neque est varius at accumsan et vehicula id enim Cras porttitor tristique tortor quis porta turpis condimentum quis Morbi quis interdum ipsum Sed ultrices augue sit amet leo rhoncus mollis\n",
      "\n",
      "Donec aliquam nunc aliquam finibus luctus Suspendisse euismod magna vel augue pretium elementum Vivamus purus augue tempus sed euismod at hendrerit id lorem Vestibulum ante ipsum primis in faucibus orci luctus et ultrices posuere cubilia curae Donec leo quam rutrum id enim at euismod maximus nisi Proin tincidunt et massa porta fringilla Vivamus at blandit urna et dapibus est Proin semper leo nunc ut ornare orci porta egestas Sed efficitur lacinia sem at porta nisi accumsan nec Morbi et metus commodo ultricies nibh nec elementum lorem Etiam vestibulum ultricies felis vitae maximus Proin bibendum feugiat condimentum Maecenas venenatis hendrerit massa eget sodales Quisque vitae lorem lorem Quisque maximus euismod enim in laoreet Maecenas orci diam tristique eu felis ac facilisis imperdiet ante\n",
      "\n",
      "Curabitur aliquam nibh sit amet posuere interdum diam tellus imperdiet erat sed ornare nisl nisl a ligula Etiam nec varius dui In ex lorem lacinia et congue eu consectetur ac justo Suspendisse sed leo vitae nunc viverra mollis Sed ut accumsan enim ut volutpat quam Nulla facilisi Etiam turpis dui molestie non nisl sed feugiat suscipit libero Nam luctus porttitor est non dictum ligula suscipit eget Lorem ipsum dolor sit amet consectetur adipiscing elit Aliquam eget dolor maximus hendrerit quam ut vehicula diam Morbi sed scelerisque tellus Sed iaculis posuere elit eu ullamcorper augue ultricies eget Ut et elit sit amet ante ullamcorper molestie in in velit Sed ipsum nisi fermentum at tempor in placerat vitae orci\n",
      "\n",
      "Fusce ut felis mollis scelerisque diam id finibus quam Sed velit dui fringilla vel nisi accumsan vehicula ornare lectus Quisque lorem tellus faucibus sit amet dolor nec luctus tristique mi Cras fringilla magna commodo maximus varius ex dolor gravida massa ac porttitor mauris enim et enim Duis sed eros eu lacus faucibus ornare at et velit Sed sodales libero quis sodales congue Donec et lacus eros Donec lobortis risus non urna cursus auctor Ut in risus ipsum Aenean sed ultrices quam Morbi vel lectus nisl\n",
      "\n",
      "Morbi quis vulputate lorem Mauris faucibus consequat gravida Pellentesque at nisi vestibulum hendrerit ex a cursus elit Suspendisse in condimentum ligula Praesent mollis tellus eget ullamcorper maximus lectus libero pulvinar libero ut congue lectus nisl nec ante Mauris aliquam nec tortor in sagittis Vivamus hendrerit euismod consequat\n",
      "\n",
      "Generated  paragraphs  words  bytes of Lorem Ipsum\n",
      "\n"
     ]
    }
   ],
   "source": [
    "import re\n",
    "import string\n",
    "# 정규 표현식\n",
    "lorem = re.sub(f'[{string.punctuation}0-9]','',lorem, flags = re.MULTILINE)\n",
    "print(lorem)"
   ]
  },
  {
   "cell_type": "code",
   "execution_count": 16,
   "metadata": {},
   "outputs": [],
   "source": [
    "lorem = lorem.lower()"
   ]
  },
  {
   "cell_type": "code",
   "execution_count": 17,
   "metadata": {},
   "outputs": [
    {
     "name": "stdout",
     "output_type": "stream",
     "text": [
      "['lorem', 'ipsum', 'dolor', 'sit', 'amet', 'consectetur', 'adipiscing', 'elit', 'aliquam', 'sit', 'amet', 'volutpat', 'turpis', 'aenean', 'semper', 'ipsum', 'id', 'sapien', 'aliquam', 'ac', 'facilisis', 'risus', 'semper', 'maecenas', 'vel', 'felis', 'vehicula', 'ornare', 'leo', 'id', 'euismod', 'lorem', 'suspendisse', 'vulputate', 'sodales', 'ultricies', 'ut', 'lectus', 'eros', 'tincidunt', 'quis', 'felis', 'in', 'porta', 'blandit', 'lacus', 'praesent', 'nec', 'velit', 'arcu', 'sed', 'luctus', 'iaculis', 'est', 'in', 'varius', 'metus', 'blandit', 'non', 'integer', 'vitae', 'fermentum', 'massa', 'nunc', 'lacinia', 'interdum', 'condimentum', 'nulla', 'dignissim', 'ex', 'eget', 'ultrices', 'pretium', 'neque', 'leo', 'placerat', 'erat', 'vitae', 'aliquam', 'urna', 'augue', 'vel', 'ipsum', 'maecenas', 'massa', 'nisl', 'aliquet', 'et', 'orci', 'sed', 'volutpat', 'dictum', 'metus', 'phasellus', 'eu', 'lorem', 'sodales', 'luctus', 'enim', 'sed', 'fringilla', 'neque', 'nam', 'efficitur', 'quam', 'non', 'pulvinar', 'mollis', 'libero', 'ex', 'aliquet', 'ante', 'eget', 'vehicula', 'libero', 'lectus', 'vel', 'arcu', 'proin', 'at', 'tortor', 'cursus', 'mollis', 'justo', 'eget', 'facilisis', 'eros', 'integer', 'facilisis', 'eget', 'tellus', 'at', 'malesuada', 'nam', 'venenatis', 'libero', 'vitae', 'interdum', 'scelerisque', 'enim', 'ipsum', 'euismod', 'erat', 'eu', 'eleifend', 'leo', 'risus', 'vel', 'enim', 'curabitur', 'pretium', 'tortor', 'at', 'turpis', 'vestibulum', 'aliquam', 'vestibulum', 'pellentesque', 'scelerisque', 'congue', 'aenean', 'vel', 'consequat', 'erat', 'pellentesque', 'volutpat', 'eros', 'massa', 'id', 'ullamcorper', 'neque', 'consequat', 'eu', 'vivamus', 'blandit', 'pretium', 'elit', 'quis', 'volutpat', 'nam', 'sit', 'amet', 'lectus', 'augue', 'vestibulum', 'cursus', 'mauris', 'neque', 'sed', 'sodales', 'neque', 'tempor', 'quis', 'curabitur', 'auctor', 'ex', 'eget', 'eleifend', 'sodales', 'lectus', 'erat', 'feugiat', 'quam', 'id', 'placerat', 'ipsum', 'nisl', 'pellentesque', 'orci', 'morbi', 'vel', 'quam', 'nec', 'massa', 'accumsan', 'imperdiet', 'sed', 'et', 'lorem', 'aliquam', 'magna', 'eros', 'auctor', 'sed', 'vulputate', 'quis', 'ornare', 'in', 'orci', 'ut', 'magna', 'erat', 'efficitur', 'at', 'venenatis', 'tristique', 'semper', 'at', 'magna', 'cras', 'in', 'lorem', 'urna', 'proin', 'condimentum', 'dui', 'vitae', 'eleifend', 'sodales', 'donec', 'ante', 'nulla', 'dignissim', 'sit', 'amet', 'semper', 'vel', 'malesuada', 'nec', 'quam', 'quisque', 'a', 'ex', 'et', 'risus', 'feugiat', 'tincidunt', 'at', 'vitae', 'dolor', 'interdum', 'et', 'malesuada', 'fames', 'ac', 'ante', 'ipsum', 'primis', 'in', 'faucibus', 'sed', 'sit', 'amet', 'scelerisque', 'arcu', 'integer', 'dapibus', 'est', 'ac', 'nulla', 'luctus', 'in', 'iaculis', 'neque', 'tempor', 'maecenas', 'enim', 'metus', 'dictum', 'at', 'posuere', 'at', 'lacinia', 'commodo', 'ipsum', 'vivamus', 'iaculis', 'ultrices', 'elit', 'vel', 'faucibus', 'fusce', 'in', 'ligula', 'non', 'nunc', 'interdum', 'placerat', 'mauris', 'quis', 'convallis', 'elit', 'nunc', 'eu', 'ipsum', 'tellus', 'proin', 'posuere', 'dictum', 'velit', 'vitae', 'pharetra', 'magna', 'bibendum', 'nec', 'nulla', 'facilisi', 'sed', 'finibus', 'elementum', 'quam', 'et', 'blandit', 'turpis', 'posuere', 'sit', 'amet', 'in', 'interdum', 'mi', 'sapien', 'id', 'dignissim', 'leo', 'pulvinar', 'a', 'nam', 'faucibus', 'odio', 'nec', 'nibh', 'aliquet', 'feugiat', 'quisque', 'tellus', 'nunc', 'pellentesque', 'sed', 'commodo', 'vel', 'molestie', 'eget', 'tortor', 'donec', 'id', 'lorem', 'lacinia', 'vulputate', 'ex', 'sed', 'aliquam', 'erat', 'ut', 'et', 'justo', 'tincidunt', 'elementum', 'sapien', 'non', 'porta', 'quam', 'phasellus', 'posuere', 'massa', 'at', 'vulputate', 'mollis', 'cras', 'sollicitudin', 'augue', 'dapibus', 'leo', 'molestie', 'tristique', 'sed', 'at', 'tempus', 'erat', 'pellentesque', 'mattis', 'ac', 'metus', 'vel', 'convallis', 'donec', 'efficitur', 'ipsum', 'quis', 'dui', 'tristique', 'posuere', 'pellentesque', 'in', 'est', 'eu', 'diam', 'tempus', 'consectetur', 'nec', 'sit', 'amet', 'turpis', 'sed', 'dapibus', 'sit', 'amet', 'purus', 'et', 'tempor', 'ut', 'eget', 'metus', 'vitae', 'risus', 'auctor', 'bibendum', 'ut', 'quis', 'dolor', 'nam', 'vitae', 'tempor', 'arcu', 'vestibulum', 'at', 'nibh', 'nec', 'felis', 'dignissim', 'molestie', 'curabitur', 'nec', 'molestie', 'sem', 'sed', 'finibus', 'interdum', 'purus', 'quis', 'pellentesque', 'justo', 'volutpat', 'ullamcorper', 'vestibulum', 'venenatis', 'ex', 'in', 'nisi', 'efficitur', 'eu', 'sagittis', 'elit', 'tristique', 'morbi', 'aliquam', 'magna', 'id', 'quam', 'commodo', 'iaculis', 'nunc', 'elementum', 'nibh', 'leo', 'lacinia', 'fringilla', 'purus', 'commodo', 'in', 'in', 'at', 'dui', 'ex', 'morbi', 'maximus', 'turpis', 'eget', 'diam', 'egestas', 'scelerisque', 'morbi', 'quis', 'feugiat', 'nulla', 'ac', 'ornare', 'orci', 'sed', 'aliquet', 'sapien', 'non', 'turpis', 'malesuada', 'in', 'convallis', 'ipsum', 'scelerisque', 'mauris', 'nec', 'eleifend', 'orci', 'lacinia', 'dapibus', 'nunc', 'proin', 'porttitor', 'lacus', 'augue', 'at', 'feugiat', 'eros', 'efficitur', 'scelerisque', 'suspendisse', 'euismod', 'orci', 'cursus', 'tempor', 'condimentum', 'nunc', 'ac', 'commodo', 'felis', 'curabitur', 'vehicula', 'facilisis', 'dolor', 'sed', 'suscipit', 'fusce', 'iaculis', 'semper', 'sagittis', 'proin', 'aliquet', 'lectus', 'at', 'condimentum', 'imperdiet', 'erat', 'quam', 'condimentum', 'sem', 'fringilla', 'varius', 'turpis', 'augue', 'nec', 'purus', 'donec', 'vitae', 'blandit', 'leo', 'cras', 'non', 'tellus', 'lobortis', 'fermentum', 'magna', 'non', 'lobortis', 'erat', 'proin', 'non', 'dui', 'luctus', 'odio', 'finibus', 'finibus', 'nunc', 'interdum', 'feugiat', 'metus', 'pellentesque', 'venenatis', 'ligula', 'ut', 'aliquet', 'auctor', 'cras', 'vel', 'sollicitudin', 'dolor', 'eu', 'consectetur', 'massa', 'nullam', 'auctor', 'lectus', 'eget', 'urna', 'tempor', 'tincidunt', 'in', 'tristique', 'nulla', 'vitae', 'imperdiet', 'dapibus', 'nam', 'ligula', 'nisl', 'laoreet', 'sed', 'ipsum', 'eu', 'blandit', 'tempus', 'lectus', 'praesent', 'consequat', 'purus', 'aliquet', 'consequat', 'hendrerit', 'donec', 'ante', 'ante', 'pellentesque', 'vitae', 'mi', 'vel', 'tincidunt', 'aliquet', 'urna', 'morbi', 'arcu', 'ex', 'posuere', 'et', 'feugiat', 'sed', 'pretium', 'vulputate', 'urna', 'etiam', 'euismod', 'velit', 'sed', 'ante', 'blandit', 'consectetur', 'proin', 'vitae', 'ex', 'et', 'erat', 'vestibulum', 'placerat', 'nam', 'nec', 'congue', 'erat', 'fusce', 'at', 'turpis', 'diam', 'morbi', 'semper', 'metus', 'eu', 'dolor', 'maximus', 'tristique', 'etiam', 'dictum', 'sollicitudin', 'feugiat', 'praesent', 'mollis', 'id', 'dolor', 'quis', 'gravida', 'mauris', 'imperdiet', 'nisl', 'sit', 'amet', 'risus', 'euismod', 'a', 'lacinia', 'nulla', 'egestas', 'maecenas', 'pulvinar', 'tellus', 'a', 'posuere', 'blandit', 'erat', 'justo', 'volutpat', 'ante', 'eget', 'vestibulum', 'lacus', 'nulla', 'a', 'mi', 'phasellus', 'pulvinar', 'malesuada', 'nisl', 'at', 'commodo', 'orci', 'auctor', 'non', 'fusce', 'sagittis', 'neque', 'tortor', 'vitae', 'sollicitudin', 'augue', 'sagittis', 'ac', 'aliquam', 'efficitur', 'diam', 'in', 'molestie', 'tincidunt', 'ex', 'lorem', 'mollis', 'nisi', 'eget', 'porttitor', 'nunc', 'lacus', 'vitae', 'tortor', 'vivamus', 'tincidunt', 'lorem', 'sit', 'amet', 'egestas', 'dictum', 'nibh', 'dui', 'dapibus', 'nisi', 'at', 'viverra', 'nulla', 'nisi', 'sed', 'sem', 'nunc', 'eu', 'mauris', 'laoreet', 'ullamcorper', 'nulla', 'a', 'finibus', 'mi', 'in', 'egestas', 'condimentum', 'sem', 'in', 'aliquam', 'donec', 'ornare', 'turpis', 'vitae', 'suscipit', 'posuere', 'duis', 'consectetur', 'ex', 'ut', 'libero', 'tempus', 'in', 'mattis', 'mi', 'fringilla', 'phasellus', 'ac', 'euismod', 'sapien', 'curabitur', 'sed', 'mauris', 'erat', 'aenean', 'rutrum', 'vitae', 'est', 'id', 'posuere', 'donec', 'efficitur', 'elementum', 'tortor', 'vel', 'condimentum', 'nulla', 'finibus', 'consectetur', 'praesent', 'augue', 'purus', 'mollis', 'mollis', 'nisl', 'id', 'gravida', 'placerat', 'neque', 'lorem', 'ipsum', 'dolor', 'sit', 'amet', 'consectetur', 'adipiscing', 'elit', 'praesent', 'eget', 'dignissim', 'mauris', 'donec', 'vehicula', 'lorem', 'non', 'ex', 'venenatis', 'at', 'fringilla', 'arcu', 'dignissim', 'praesent', 'lacinia', 'ante', 'eget', 'augue', 'congue', 'venenatis', 'praesent', 'et', 'tellus', 'eleifend', 'lectus', 'finibus', 'feugiat', 'sed', 'cursus', 'velit', 'eget', 'ante', 'scelerisque', 'vel', 'ornare', 'neque', 'sodales', 'mauris', 'consectetur', 'orci', 'diam', 'vel', 'mattis', 'neque', 'porttitor', 'sed', 'phasellus', 'elementum', 'libero', 'ac', 'ultricies', 'viverra', 'vivamus', 'eu', 'elit', 'et', 'turpis', 'semper', 'aliquam', 'nam', 'rhoncus', 'vel', 'sapien', 'non', 'vulputate', 'proin', 'viverra', 'facilisis', 'erat', 'non', 'pulvinar', 'phasellus', 'convallis', 'porta', 'lacus', 'ac', 'congue', 'risus', 'maecenas', 'ut', 'felis', 'erat', 'nam', 'nec', 'nisi', 'at', 'orci', 'ultricies', 'elementum', 'sagittis', 'sit', 'amet', 'nunc', 'praesent', 'accumsan', 'ut', 'arcu', 'ac', 'auctor', 'nulla', 'in', 'lorem', 'sem', 'sed', 'non', 'arcu', 'mollis', 'ex', 'scelerisque', 'consequat', 'vitae', 'a', 'ipsum', 'in', 'id', 'sollicitudin', 'nulla', 'sed', 'mollis', 'risus', 'pellentesque', 'sollicitudin', 'massa', 'lectus', 'maecenas', 'ornare', 'sem', 'tincidunt', 'convallis', 'faucibus', 'elit', 'risus', 'consequat', 'odio', 'eu', 'porttitor', 'lacus', 'ipsum', 'a', 'diam', 'nunc', 'porttitor', 'lacus', 'et', 'tortor', 'egestas', 'lobortis', 'vivamus', 'nisl', 'augue', 'condimentum', 'at', 'sodales', 'at', 'porta', 'ac', 'dui', 'in', 'hac', 'habitasse', 'platea', 'dictumst', 'mauris', 'eu', 'pellentesque', 'justo', 'nulla', 'quis', 'diam', 'nulla', 'suspendisse', 'rutrum', 'iaculis', 'nunc', 'ut', 'ullamcorper', 'mauris', 'non', 'dui', 'finibus', 'fermentum', 'ex', 'at', 'gravida', 'neque', 'duis', 'quis', 'purus', 'at', 'erat', 'feugiat', 'volutpat', 'nulla', 'tempus', 'tincidunt', 'nibh', 'vitae', 'viverra', 'nulla', 'dui', 'ipsum', 'accumsan', 'ac', 'eleifend', 'sit', 'amet', 'rutrum', 'nec', 'felis', 'mauris', 'ullamcorper', 'enim', 'posuere', 'ullamcorper', 'nibh', 'nec', 'egestas', 'lectus', 'integer', 'fermentum', 'ornare', 'aliquam', 'etiam', 'consequat', 'sapien', 'at', 'justo', 'porttitor', 'vel', 'dictum', 'justo', 'ornare', 'duis', 'pharetra', 'ipsum', 'feugiat', 'urna', 'elementum', 'condimentum', 'mauris', 'sollicitudin', 'pharetra', 'ex', 'vel', 'consequat', 'etiam', 'rhoncus', 'bibendum', 'ipsum', 'consequat', 'posuere', 'mauris', 'ac', 'risus', 'vel', 'arcu', 'pretium', 'efficitur', 'ut', 'in', 'est', 'aliquam', 'vel', 'magna', 'sit', 'amet', 'velit', 'mattis', 'convallis', 'in', 'non', 'est', 'ut', 'facilisis', 'lacinia', 'auctor', 'nunc', 'iaculis', 'lectus', 'et', 'scelerisque', 'maximus', 'sapien', 'diam', 'dictum', 'dui', 'quis', 'vehicula', 'mauris', 'justo', 'a', 'metus', 'curabitur', 'laoreet', 'ipsum', 'risus', 'quis', 'laoreet', 'elit', 'sagittis', 'eu', 'sed', 'vehicula', 'velit', 'magna', 'ac', 'placerat', 'ligula', 'egestas', 'eu', 'aenean', 'vitae', 'fringilla', 'ipsum', 'nam', 'ipsum', 'nisl', 'gravida', 'vitae', 'ornare', 'ac', 'molestie', 'quis', 'metus', 'nunc', 'erat', 'odio', 'malesuada', 'a', 'tellus', 'sed', 'maximus', 'volutpat', 'metus', 'mauris', 'a', 'pretium', 'tortor', 'consequat', 'eleifend', 'turpis', 'sed', 'vehicula', 'mauris', 'ultrices', 'aliquet', 'metus', 'in', 'tincidunt', 'enim', 'orci', 'varius', 'natoque', 'penatibus', 'et', 'magnis', 'dis', 'parturient', 'montes', 'nascetur', 'ridiculus', 'mus', 'nulla', 'malesuada', 'sit', 'amet', 'velit', 'nec', 'rutrum', 'vivamus', 'suscipit', 'velit', 'eu', 'risus', 'tincidunt', 'nec', 'faucibus', 'velit', 'finibus', 'phasellus', 'mattis', 'faucibus', 'sem', 'et', 'placerat', 'nullam', 'euismod', 'massa', 'diam', 'ac', 'pretium', 'eros', 'mollis', 'ornare', 'nullam', 'suscipit', 'ex', 'eu', 'est', 'facilisis', 'tristique', 'aenean', 'egestas', 'sapien', 'vel', 'faucibus', 'ornare', 'dui', 'nibh', 'viverra', 'est', 'id', 'dictum', 'turpis', 'lectus', 'ut', 'nisi', 'phasellus', 'porta', 'dui', 'ac', 'tincidunt', 'feugiat', 'mauris', 'velit', 'semper', 'felis', 'quis', 'hendrerit', 'felis', 'arcu', 'non', 'lectus', 'nulla', 'sapien', 'leo', 'placerat', 'vel', 'sollicitudin', 'at', 'scelerisque', 'sit', 'amet', 'purus', 'nulla', 'ullamcorper', 'quam', 'vel', 'congue', 'maximus', 'metus', 'nisl', 'rutrum', 'neque', 'dictum', 'hendrerit', 'nibh', 'sapien', 'a', 'magna', 'maecenas', 'feugiat', 'tellus', 'sapien', 'ut', 'ultricies', 'diam', 'lobortis', 'ullamcorper', 'lorem', 'ipsum', 'dolor', 'sit', 'amet', 'consectetur', 'adipiscing', 'elit', 'aenean', 'et', 'nibh', 'quis', 'dui', 'interdum', 'imperdiet', 'vel', 'sit', 'amet', 'mi', 'in', 'vestibulum', 'augue', 'id', 'finibus', 'vehicula', 'velit', 'felis', 'scelerisque', 'lorem', 'at', 'condimentum', 'nibh', 'sem', 'in', 'eros', 'sed', 'consequat', 'finibus', 'ligula', 'in', 'faucibus', 'nunc', 'porta', 'convallis', 'ligula', 'venenatis', 'lobortis', 'mi', 'facilisis', 'vitae', 'nulla', 'auctor', 'vestibulum', 'consequat', 'vestibulum', 'ex', 'tortor', 'feugiat', 'at', 'nisi', 'vitae', 'interdum', 'placerat', 'mi', 'maecenas', 'vitae', 'augue', 'interdum', 'pharetra', 'arcu', 'quis', 'tempor', 'leo', 'in', 'et', 'tortor', 'eget', 'tellus', 'rhoncus', 'lacinia', 'maecenas', 'ornare', 'suscipit', 'dolor', 'ac', 'luctus', 'libero', 'luctus', 'elementum', 'fusce', 'pretium', 'sapien', 'ut', 'tellus', 'vestibulum', 'quis', 'porttitor', 'justo', 'interdum', 'nunc', 'eu', 'magna', 'tincidunt', 'orci', 'efficitur', 'euismod', 'vel', 'sit', 'amet', 'massa', 'proin', 'suscipit', 'enim', 'sed', 'ex', 'molestie', 'gravida', 'ornare', 'enim', 'feugiat', 'praesent', 'commodo', 'nibh', 'non', 'ullamcorper', 'gravida', 'est', 'lorem', 'mattis', 'ipsum', 'et', 'laoreet', 'sem', 'risus', 'vitae', 'ligula', 'donec', 'neque', 'est', 'varius', 'at', 'accumsan', 'et', 'vehicula', 'id', 'enim', 'cras', 'porttitor', 'tristique', 'tortor', 'quis', 'porta', 'turpis', 'condimentum', 'quis', 'morbi', 'quis', 'interdum', 'ipsum', 'sed', 'ultrices', 'augue', 'sit', 'amet', 'leo', 'rhoncus', 'mollis', 'donec', 'aliquam', 'nunc', 'aliquam', 'finibus', 'luctus', 'suspendisse', 'euismod', 'magna', 'vel', 'augue', 'pretium', 'elementum', 'vivamus', 'purus', 'augue', 'tempus', 'sed', 'euismod', 'at', 'hendrerit', 'id', 'lorem', 'vestibulum', 'ante', 'ipsum', 'primis', 'in', 'faucibus', 'orci', 'luctus', 'et', 'ultrices', 'posuere', 'cubilia', 'curae', 'donec', 'leo', 'quam', 'rutrum', 'id', 'enim', 'at', 'euismod', 'maximus', 'nisi', 'proin', 'tincidunt', 'et', 'massa', 'porta', 'fringilla', 'vivamus', 'at', 'blandit', 'urna', 'et', 'dapibus', 'est', 'proin', 'semper', 'leo', 'nunc', 'ut', 'ornare', 'orci', 'porta', 'egestas', 'sed', 'efficitur', 'lacinia', 'sem', 'at', 'porta', 'nisi', 'accumsan', 'nec', 'morbi', 'et', 'metus', 'commodo', 'ultricies', 'nibh', 'nec', 'elementum', 'lorem', 'etiam', 'vestibulum', 'ultricies', 'felis', 'vitae', 'maximus', 'proin', 'bibendum', 'feugiat', 'condimentum', 'maecenas', 'venenatis', 'hendrerit', 'massa', 'eget', 'sodales', 'quisque', 'vitae', 'lorem', 'lorem', 'quisque', 'maximus', 'euismod', 'enim', 'in', 'laoreet', 'maecenas', 'orci', 'diam', 'tristique', 'eu', 'felis', 'ac', 'facilisis', 'imperdiet', 'ante', 'curabitur', 'aliquam', 'nibh', 'sit', 'amet', 'posuere', 'interdum', 'diam', 'tellus', 'imperdiet', 'erat', 'sed', 'ornare', 'nisl', 'nisl', 'a', 'ligula', 'etiam', 'nec', 'varius', 'dui', 'in', 'ex', 'lorem', 'lacinia', 'et', 'congue', 'eu', 'consectetur', 'ac', 'justo', 'suspendisse', 'sed', 'leo', 'vitae', 'nunc', 'viverra', 'mollis', 'sed', 'ut', 'accumsan', 'enim', 'ut', 'volutpat', 'quam', 'nulla', 'facilisi', 'etiam', 'turpis', 'dui', 'molestie', 'non', 'nisl', 'sed', 'feugiat', 'suscipit', 'libero', 'nam', 'luctus', 'porttitor', 'est', 'non', 'dictum', 'ligula', 'suscipit', 'eget', 'lorem', 'ipsum', 'dolor', 'sit', 'amet', 'consectetur', 'adipiscing', 'elit', 'aliquam', 'eget', 'dolor', 'maximus', 'hendrerit', 'quam', 'ut', 'vehicula', 'diam', 'morbi', 'sed', 'scelerisque', 'tellus', 'sed', 'iaculis', 'posuere', 'elit', 'eu', 'ullamcorper', 'augue', 'ultricies', 'eget', 'ut', 'et', 'elit', 'sit', 'amet', 'ante', 'ullamcorper', 'molestie', 'in', 'in', 'velit', 'sed', 'ipsum', 'nisi', 'fermentum', 'at', 'tempor', 'in', 'placerat', 'vitae', 'orci', 'fusce', 'ut', 'felis', 'mollis', 'scelerisque', 'diam', 'id', 'finibus', 'quam', 'sed', 'velit', 'dui', 'fringilla', 'vel', 'nisi', 'accumsan', 'vehicula', 'ornare', 'lectus', 'quisque', 'lorem', 'tellus', 'faucibus', 'sit', 'amet', 'dolor', 'nec', 'luctus', 'tristique', 'mi', 'cras', 'fringilla', 'magna', 'commodo', 'maximus', 'varius', 'ex', 'dolor', 'gravida', 'massa', 'ac', 'porttitor', 'mauris', 'enim', 'et', 'enim', 'duis', 'sed', 'eros', 'eu', 'lacus', 'faucibus', 'ornare', 'at', 'et', 'velit', 'sed', 'sodales', 'libero', 'quis', 'sodales', 'congue', 'donec', 'et', 'lacus', 'eros', 'donec', 'lobortis', 'risus', 'non', 'urna', 'cursus', 'auctor', 'ut', 'in', 'risus', 'ipsum', 'aenean', 'sed', 'ultrices', 'quam', 'morbi', 'vel', 'lectus', 'nisl', 'morbi', 'quis', 'vulputate', 'lorem', 'mauris', 'faucibus', 'consequat', 'gravida', 'pellentesque', 'at', 'nisi', 'vestibulum', 'hendrerit', 'ex', 'a', 'cursus', 'elit', 'suspendisse', 'in', 'condimentum', 'ligula', 'praesent', 'mollis', 'tellus', 'eget', 'ullamcorper', 'maximus', 'lectus', 'libero', 'pulvinar', 'libero', 'ut', 'congue', 'lectus', 'nisl', 'nec', 'ante', 'mauris', 'aliquam', 'nec', 'tortor', 'in', 'sagittis', 'vivamus', 'hendrerit', 'euismod', 'consequat', 'generated', 'paragraphs', 'words', 'bytes', 'of', 'lorem', 'ipsum']\n"
     ]
    }
   ],
   "source": [
    "lorem_list = lorem.split()\n",
    "print(lorem_list)"
   ]
  },
  {
   "cell_type": "code",
   "execution_count": 18,
   "metadata": {},
   "outputs": [],
   "source": [
    "word_dict = {}"
   ]
  },
  {
   "cell_type": "code",
   "execution_count": 20,
   "metadata": {},
   "outputs": [
    {
     "name": "stderr",
     "output_type": "stream",
     "text": [
      "IOPub data rate exceeded.\n",
      "The notebook server will temporarily stop sending output\n",
      "to the client in order to avoid crashing it.\n",
      "To change this limit, set the config variable\n",
      "`--NotebookApp.iopub_data_rate_limit`.\n",
      "\n",
      "Current values:\n",
      "NotebookApp.iopub_data_rate_limit=1000000.0 (bytes/sec)\n",
      "NotebookApp.rate_limit_window=3.0 (secs)\n",
      "\n"
     ]
    }
   ],
   "source": [
    "for word in lorem_list:\n",
    "    if word in word_dict.keys():\n",
    "        word_dict[word] += 1\n",
    "    else:\n",
    "        word_dict.update({word: 1})\n",
    "    print(word_dict)"
   ]
  },
  {
   "cell_type": "code",
   "execution_count": 21,
   "metadata": {},
   "outputs": [
    {
     "name": "stdout",
     "output_type": "stream",
     "text": [
      "['sed', 'in', 'at', 'ipsum', 'vel', 'vitae', 'et', 'sit', 'amet', 'quis', 'lorem', 'ut', 'ac', 'nec', 'nulla', 'eu', 'ex', 'non', 'nunc', 'eget', 'mauris', 'erat', 'aliquam', 'id', 'ornare', 'lectus', 'feugiat', 'augue', 'orci', 'dui', 'dolor', 'elit', 'turpis', 'risus', 'tincidunt', 'velit', 'nisl', 'enim', 'quam', 'mollis', 'tellus', 'vestibulum', 'consequat', 'a', 'posuere', 'diam', 'sapien', 'leo', 'euismod', 'metus', 'interdum', 'condimentum', 'neque', 'ante', 'scelerisque', 'donec', 'finibus', 'nibh', 'felis', 'est', 'massa', 'proin', 'tortor', 'pellentesque', 'ullamcorper', 'magna', 'faucibus', 'nisi', 'consectetur', 'maecenas', 'vehicula', 'arcu', 'lacinia', 'nam', 'morbi', 'maximus', 'sodales', 'porta', 'praesent', 'luctus', 'placerat', 'dictum', 'efficitur', 'libero', 'justo', 'auctor', 'tristique', 'ligula', 'elementum', 'sem', 'porttitor', 'volutpat', 'semper', 'facilisis', 'eros', 'blandit', 'lacus', 'pretium', 'aliquet', 'fringilla', 'vivamus', 'commodo', 'mi', 'molestie', 'purus', 'egestas', 'iaculis', 'urna', 'phasellus', 'venenatis', 'congue', 'tempor', 'sollicitudin', 'suscipit', 'hendrerit', 'gravida', 'aenean', 'vulputate', 'ultricies', 'malesuada', 'eleifend', 'curabitur', 'accumsan', 'imperdiet', 'dapibus', 'convallis', 'sagittis', 'etiam', 'suspendisse', 'varius', 'dignissim', 'ultrices', 'pulvinar', 'cursus', 'cras', 'fusce', 'tempus', 'mattis', 'lobortis', 'laoreet', 'viverra', 'rutrum', 'fermentum', 'quisque', 'adipiscing', 'integer', 'pharetra', 'bibendum', 'odio', 'duis', 'rhoncus', 'nullam', 'primis', 'facilisi', 'fames', 'hac', 'habitasse', 'platea', 'dictumst', 'natoque', 'penatibus', 'magnis', 'dis', 'parturient', 'montes', 'nascetur', 'ridiculus', 'mus', 'cubilia', 'curae', 'generated', 'paragraphs', 'words', 'bytes', 'of']\n"
     ]
    }
   ],
   "source": [
    "sorted_words = sorted(word_dict, key = lambda k : word_dict[k], reverse=True )\n",
    "print(sorted_words)"
   ]
  },
  {
   "cell_type": "code",
   "execution_count": 22,
   "metadata": {},
   "outputs": [
    {
     "name": "stdout",
     "output_type": "stream",
     "text": [
      "sed 86\n",
      "in 74\n",
      "at 70\n",
      "ipsum 56\n",
      "vel 56\n",
      "vitae 56\n",
      "et 56\n",
      "sit 48\n",
      "amet 48\n",
      "quis 48\n"
     ]
    }
   ],
   "source": [
    "for index, value in enumerate(sorted_words):\n",
    "    if index == 10:\n",
    "        break;\n",
    "    print(value, word_dict[value])"
   ]
  },
  {
   "cell_type": "markdown",
   "metadata": {},
   "source": [
    "## 파일로부터 읽어서 word counting"
   ]
  },
  {
   "cell_type": "code",
   "execution_count": null,
   "metadata": {},
   "outputs": [],
   "source": [
    "with open "
   ]
  }
 ],
 "metadata": {
  "kernelspec": {
   "display_name": "Python 3",
   "language": "python",
   "name": "python3"
  },
  "language_info": {
   "codemirror_mode": {
    "name": "ipython",
    "version": 3
   },
   "file_extension": ".py",
   "mimetype": "text/x-python",
   "name": "python",
   "nbconvert_exporter": "python",
   "pygments_lexer": "ipython3",
   "version": "3.8.3"
  }
 },
 "nbformat": 4,
 "nbformat_minor": 4
}
