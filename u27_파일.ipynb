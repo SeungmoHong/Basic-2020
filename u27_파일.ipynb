{
 "cells": [
  {
   "cell_type": "markdown",
   "metadata": {},
   "source": [
    "# Unit 27. 파일 사용하기"
   ]
  },
  {
   "cell_type": "markdown",
   "metadata": {},
   "source": [
    "### 파일에 문자열 쓰기"
   ]
  },
  {
   "cell_type": "code",
   "execution_count": 37,
   "metadata": {},
   "outputs": [],
   "source": [
    "file = open('hello.txt', 'w')    # hello.txt 파일을 쓰기 모드(w)로 열기. 파일 객체 반환\n",
    "file.write('Hello, world!')      # 파일에 문자열 저장\n",
    "file.close()"
   ]
  },
  {
   "cell_type": "code",
   "execution_count": 4,
   "metadata": {},
   "outputs": [
    {
     "name": "stdout",
     "output_type": "stream",
     "text": [
      "Hello, world!\n"
     ]
    }
   ],
   "source": [
    "file = open('hello.txt', 'r')    # hello.txt 파일을 읽기 모드(r)로 열기. 파일 객체 반환\n",
    "s = file.read()                  # 파일에서 문자열 읽기\n",
    "print(s)                         # Hello, world!\n",
    "file.close()                     # 파일 객체 닫기"
   ]
  },
  {
   "cell_type": "code",
   "execution_count": 5,
   "metadata": {},
   "outputs": [
    {
     "name": "stdout",
     "output_type": "stream",
     "text": [
      "Hello, world!\n"
     ]
    }
   ],
   "source": [
    "#자동으로 객체 닫기\n",
    "with open('hello.txt', 'r') as file:    \n",
    "    s = file.read()                     \n",
    "    print(s)                        "
   ]
  },
  {
   "cell_type": "code",
   "execution_count": 11,
   "metadata": {},
   "outputs": [],
   "source": [
    "# 반복문으로 문자열 여러 줄을 파일에 쓰기\n",
    "with open('hello.txt', 'w') as file:    \n",
    "    for i in range(3):\n",
    "        file.write(f'Hello, world! {i+1}\\n'.format(i))"
   ]
  },
  {
   "cell_type": "code",
   "execution_count": 13,
   "metadata": {},
   "outputs": [],
   "source": [
    "# 리스트에 들어있는 문자열을 파일에 쓰기\n",
    "lines = ['안녕하세요.\\n', '파이썬\\n', '코딩 도장입니다.\\n' ]\n",
    "with open('hello.txt', 'w') as file :\n",
    "    file.writelines(lines)"
   ]
  },
  {
   "cell_type": "code",
   "execution_count": 20,
   "metadata": {},
   "outputs": [
    {
     "name": "stdout",
     "output_type": "stream",
     "text": [
      "안녕하세요.\n",
      "파이썬\n",
      "코딩 도장입니다.\n",
      "\n"
     ]
    }
   ],
   "source": [
    "# 문자열로 바꿔서 넣기\n",
    "lines = ''.join(lines)\n",
    "with open('hello.txt', 'w') as file:\n",
    "    file.write(lines)\n",
    "    print(lines)"
   ]
  },
  {
   "cell_type": "code",
   "execution_count": 16,
   "metadata": {},
   "outputs": [
    {
     "name": "stdout",
     "output_type": "stream",
     "text": [
      "안녕하세요.\n",
      "파이썬\n",
      "코딩 도장입니다.\n",
      "\n"
     ]
    }
   ],
   "source": [
    "with open('hello.txt', 'r') as file:    \n",
    "    s = file.read()                     \n",
    "    print(s)    "
   ]
  },
  {
   "cell_type": "code",
   "execution_count": 19,
   "metadata": {},
   "outputs": [
    {
     "name": "stdout",
     "output_type": "stream",
     "text": [
      "['안녕하세요.\\n', '파이썬\\n', '코딩 도장입니다.\\n']\n"
     ]
    }
   ],
   "source": [
    "# 리스트로 가져오기\n",
    "with open('hello.txt', 'r') as file:\n",
    "    lines = file.readlines()\n",
    "    print(lines)"
   ]
  },
  {
   "cell_type": "code",
   "execution_count": 18,
   "metadata": {},
   "outputs": [
    {
     "name": "stdout",
     "output_type": "stream",
     "text": [
      "안녕하세요.\n",
      "파이썬\n",
      "코딩 도장입니다.\n",
      "\n"
     ]
    }
   ],
   "source": [
    "#파일의 내용 한줄씩 읽기\n",
    "with open('hello.txt', 'r') as file :\n",
    "    line = None\n",
    "    while line !='':\n",
    "        line = file.readline()\n",
    "        print(line.strip('\\n'))"
   ]
  },
  {
   "cell_type": "code",
   "execution_count": 22,
   "metadata": {},
   "outputs": [
    {
     "data": {
      "text/plain": [
       "str"
      ]
     },
     "execution_count": 22,
     "metadata": {},
     "output_type": "execute_result"
    }
   ],
   "source": [
    "type(lines)"
   ]
  },
  {
   "cell_type": "code",
   "execution_count": 23,
   "metadata": {},
   "outputs": [
    {
     "name": "stdout",
     "output_type": "stream",
     "text": [
      "안녕하세요.\n",
      "파이썬\n",
      "코딩 도장입니다.\n"
     ]
    }
   ],
   "source": [
    "#for반복문으로 파일의 내용을 줄 단위로 읽기\n",
    "with open('hello.txt', 'r')as file:\n",
    "    for line in file:\n",
    "        print(line.strip('\\n'))"
   ]
  },
  {
   "cell_type": "code",
   "execution_count": 26,
   "metadata": {},
   "outputs": [],
   "source": [
    "# 파이썬 객체를 파일에 저장하기\n",
    "import pickle\n",
    "name = 'james'\n",
    "age = 17\n",
    "address = '서울시 서초구 반포동'\n",
    "scores = {'korean': 90, 'english': 95, 'mathmatics': 85, 'science': 82}\n",
    "with open('james.p', 'wb') as file:\n",
    "    pickle.dump(name, file)\n",
    "    pickle.dump(age, file)\n",
    "    pickle.dump(address, file)\n",
    "    pickle.dump(scores, file)"
   ]
  },
  {
   "cell_type": "code",
   "execution_count": 27,
   "metadata": {},
   "outputs": [
    {
     "name": "stdout",
     "output_type": "stream",
     "text": [
      "james\n",
      "17\n",
      "서울시 서초구 반포동\n",
      "{'korean': 90, 'english': 95, 'mathmatics': 85, 'science': 82}\n"
     ]
    }
   ],
   "source": [
    "with open('james.p', 'rb') as file:\n",
    "    name = pickle.load(file)\n",
    "    age = pickle.load(file)\n",
    "    address = pickle.load(file)\n",
    "    scores = pickle.load(file)\n",
    "    print(name)\n",
    "    print(age)\n",
    "    print(address)\n",
    "    print(scores)"
   ]
  },
  {
   "cell_type": "code",
   "execution_count": 28,
   "metadata": {},
   "outputs": [],
   "source": [
    "james_p = {'name' : 'james', 'age' : 17 , 'address' : '서울시 서초구 반포동', 'scores' : {'korean': 90, 'english': 95, 'mathmatics': 85, 'science': 82}}"
   ]
  },
  {
   "cell_type": "code",
   "execution_count": 29,
   "metadata": {},
   "outputs": [],
   "source": [
    "with open('james.p', 'wb') as file:\n",
    "    pickle.dump(james_p, file)\n",
    "    "
   ]
  },
  {
   "cell_type": "code",
   "execution_count": 30,
   "metadata": {},
   "outputs": [
    {
     "name": "stdout",
     "output_type": "stream",
     "text": [
      "{'name': 'james', 'age': 17, 'address': '서울시 서초구 반포동', 'scores': {'korean': 90, 'english': 95, 'mathmatics': 85, 'science': 82}}\n"
     ]
    }
   ],
   "source": [
    "with open('james.p', 'rb') as file:\n",
    "    james_p = pickle.load(file)\n",
    "    print(james_p)"
   ]
  },
  {
   "cell_type": "code",
   "execution_count": 36,
   "metadata": {},
   "outputs": [
    {
     "name": "stdout",
     "output_type": "stream",
     "text": [
      "{\"name\": \"james\", \"age\": 17, \"address\": \"\\uc11c\\uc6b8\\uc2dc \\uc11c\\ucd08\\uad6c \\ubc18\\ud3ec\\ub3d9\", \"scores\": {\"korean\": 90, \"english\": 95, \"mathmatics\": 85, \"science\": 82}}\n"
     ]
    }
   ],
   "source": [
    "import json\n",
    "james_json = json.dumps(james_p)\n",
    "print(james_json)"
   ]
  },
  {
   "cell_type": "code",
   "execution_count": 39,
   "metadata": {},
   "outputs": [],
   "source": [
    "with open('hello.txt', 'w') as file:\n",
    "    file.write(james_json)"
   ]
  },
  {
   "cell_type": "code",
   "execution_count": 40,
   "metadata": {},
   "outputs": [
    {
     "name": "stdout",
     "output_type": "stream",
     "text": [
      "{\"name\": \"james\", \"age\": 17, \"address\": \"\\uc11c\\uc6b8\\uc2dc \\uc11c\\ucd08\\uad6c \\ubc18\\ud3ec\\ub3d9\", \"scores\": {\"korean\": 90, \"english\": 95, \"mathmatics\": 85, \"science\": 82}}\n"
     ]
    }
   ],
   "source": [
    "with open('hello.txt','r') as file:\n",
    "    james_str = file.read()\n",
    "print(james_str)"
   ]
  },
  {
   "cell_type": "code",
   "execution_count": 35,
   "metadata": {},
   "outputs": [
    {
     "name": "stdout",
     "output_type": "stream",
     "text": [
      "<module 'json' from 'C:\\\\ProgramData\\\\Anaconda3\\\\lib\\\\json\\\\__init__.py'>\n"
     ]
    }
   ],
   "source": [
    "james = json.loads(james_json)\n",
    "print(json)"
   ]
  },
  {
   "cell_type": "code",
   "execution_count": null,
   "metadata": {},
   "outputs": [],
   "source": []
  }
 ],
 "metadata": {
  "kernelspec": {
   "display_name": "Python 3",
   "language": "python",
   "name": "python3"
  },
  "language_info": {
   "codemirror_mode": {
    "name": "ipython",
    "version": 3
   },
   "file_extension": ".py",
   "mimetype": "text/x-python",
   "name": "python",
   "nbconvert_exporter": "python",
   "pygments_lexer": "ipython3",
   "version": "3.8.3"
  }
 },
 "nbformat": 4,
 "nbformat_minor": 4
}
